{
 "cells": [
  {
   "cell_type": "markdown",
   "metadata": {
    "collapsed": true
   },
   "source": [
    "Analyzing Employee Exit Surveys\n",
    "==="
   ]
  },
  {
   "cell_type": "markdown",
   "metadata": {},
   "source": [
    "The aim of this project is to analyze and the reasons behind employee exists in Department of Education, Training and Employment (DETE) and in Technical and Further Education (TAFE) institute in Queensland, Australia.\n",
    "The main things that we are going to focus on are:\n",
    "* Are employees who only worked for the institutes for a short period of time resigning due to some kind of dissatisfaction? What about employees who have been there longer?\n",
    "* Are younger employees resigning due to some kind of dissatisfaction? What about older employees?"
   ]
  },
  {
   "cell_type": "code",
   "execution_count": 1,
   "metadata": {
    "collapsed": true
   },
   "outputs": [],
   "source": [
    "import pandas as pd\n",
    "import numpy as np\n",
    "dete_survey = pd.read_csv(\"dete_survey.csv\")\n",
    "tafe_survey = pd.read_csv(\"tafe_survey.csv\")"
   ]
  },
  {
   "cell_type": "code",
   "execution_count": 2,
   "metadata": {
    "collapsed": false
   },
   "outputs": [
    {
     "name": "stdout",
     "output_type": "stream",
     "text": [
      "<class 'pandas.core.frame.DataFrame'>\n",
      "RangeIndex: 822 entries, 0 to 821\n",
      "Data columns (total 56 columns):\n",
      "ID                                     822 non-null int64\n",
      "SeparationType                         822 non-null object\n",
      "Cease Date                             822 non-null object\n",
      "DETE Start Date                        822 non-null object\n",
      "Role Start Date                        822 non-null object\n",
      "Position                               817 non-null object\n",
      "Classification                         455 non-null object\n",
      "Region                                 822 non-null object\n",
      "Business Unit                          126 non-null object\n",
      "Employment Status                      817 non-null object\n",
      "Career move to public sector           822 non-null bool\n",
      "Career move to private sector          822 non-null bool\n",
      "Interpersonal conflicts                822 non-null bool\n",
      "Job dissatisfaction                    822 non-null bool\n",
      "Dissatisfaction with the department    822 non-null bool\n",
      "Physical work environment              822 non-null bool\n",
      "Lack of recognition                    822 non-null bool\n",
      "Lack of job security                   822 non-null bool\n",
      "Work location                          822 non-null bool\n",
      "Employment conditions                  822 non-null bool\n",
      "Maternity/family                       822 non-null bool\n",
      "Relocation                             822 non-null bool\n",
      "Study/Travel                           822 non-null bool\n",
      "Ill Health                             822 non-null bool\n",
      "Traumatic incident                     822 non-null bool\n",
      "Work life balance                      822 non-null bool\n",
      "Workload                               822 non-null bool\n",
      "None of the above                      822 non-null bool\n",
      "Professional Development               808 non-null object\n",
      "Opportunities for promotion            735 non-null object\n",
      "Staff morale                           816 non-null object\n",
      "Workplace issue                        788 non-null object\n",
      "Physical environment                   817 non-null object\n",
      "Worklife balance                       815 non-null object\n",
      "Stress and pressure support            810 non-null object\n",
      "Performance of supervisor              813 non-null object\n",
      "Peer support                           812 non-null object\n",
      "Initiative                             813 non-null object\n",
      "Skills                                 811 non-null object\n",
      "Coach                                  767 non-null object\n",
      "Career Aspirations                     746 non-null object\n",
      "Feedback                               792 non-null object\n",
      "Further PD                             768 non-null object\n",
      "Communication                          814 non-null object\n",
      "My say                                 812 non-null object\n",
      "Information                            816 non-null object\n",
      "Kept informed                          813 non-null object\n",
      "Wellness programs                      766 non-null object\n",
      "Health & Safety                        793 non-null object\n",
      "Gender                                 798 non-null object\n",
      "Age                                    811 non-null object\n",
      "Aboriginal                             16 non-null object\n",
      "Torres Strait                          3 non-null object\n",
      "South Sea                              7 non-null object\n",
      "Disability                             23 non-null object\n",
      "NESB                                   32 non-null object\n",
      "dtypes: bool(18), int64(1), object(37)\n",
      "memory usage: 258.6+ KB\n"
     ]
    },
    {
     "data": {
      "text/html": [
       "<div>\n",
       "<style scoped>\n",
       "    .dataframe tbody tr th:only-of-type {\n",
       "        vertical-align: middle;\n",
       "    }\n",
       "\n",
       "    .dataframe tbody tr th {\n",
       "        vertical-align: top;\n",
       "    }\n",
       "\n",
       "    .dataframe thead th {\n",
       "        text-align: right;\n",
       "    }\n",
       "</style>\n",
       "<table border=\"1\" class=\"dataframe\">\n",
       "  <thead>\n",
       "    <tr style=\"text-align: right;\">\n",
       "      <th></th>\n",
       "      <th>ID</th>\n",
       "      <th>SeparationType</th>\n",
       "      <th>Cease Date</th>\n",
       "      <th>DETE Start Date</th>\n",
       "      <th>Role Start Date</th>\n",
       "      <th>Position</th>\n",
       "      <th>Classification</th>\n",
       "      <th>Region</th>\n",
       "      <th>Business Unit</th>\n",
       "      <th>Employment Status</th>\n",
       "      <th>...</th>\n",
       "      <th>Kept informed</th>\n",
       "      <th>Wellness programs</th>\n",
       "      <th>Health &amp; Safety</th>\n",
       "      <th>Gender</th>\n",
       "      <th>Age</th>\n",
       "      <th>Aboriginal</th>\n",
       "      <th>Torres Strait</th>\n",
       "      <th>South Sea</th>\n",
       "      <th>Disability</th>\n",
       "      <th>NESB</th>\n",
       "    </tr>\n",
       "  </thead>\n",
       "  <tbody>\n",
       "    <tr>\n",
       "      <th>0</th>\n",
       "      <td>1</td>\n",
       "      <td>Ill Health Retirement</td>\n",
       "      <td>08/2012</td>\n",
       "      <td>1984</td>\n",
       "      <td>2004</td>\n",
       "      <td>Public Servant</td>\n",
       "      <td>A01-A04</td>\n",
       "      <td>Central Office</td>\n",
       "      <td>Corporate Strategy and Peformance</td>\n",
       "      <td>Permanent Full-time</td>\n",
       "      <td>...</td>\n",
       "      <td>N</td>\n",
       "      <td>N</td>\n",
       "      <td>N</td>\n",
       "      <td>Male</td>\n",
       "      <td>56-60</td>\n",
       "      <td>NaN</td>\n",
       "      <td>NaN</td>\n",
       "      <td>NaN</td>\n",
       "      <td>NaN</td>\n",
       "      <td>Yes</td>\n",
       "    </tr>\n",
       "    <tr>\n",
       "      <th>1</th>\n",
       "      <td>2</td>\n",
       "      <td>Voluntary Early Retirement (VER)</td>\n",
       "      <td>08/2012</td>\n",
       "      <td>Not Stated</td>\n",
       "      <td>Not Stated</td>\n",
       "      <td>Public Servant</td>\n",
       "      <td>AO5-AO7</td>\n",
       "      <td>Central Office</td>\n",
       "      <td>Corporate Strategy and Peformance</td>\n",
       "      <td>Permanent Full-time</td>\n",
       "      <td>...</td>\n",
       "      <td>N</td>\n",
       "      <td>N</td>\n",
       "      <td>N</td>\n",
       "      <td>Male</td>\n",
       "      <td>56-60</td>\n",
       "      <td>NaN</td>\n",
       "      <td>NaN</td>\n",
       "      <td>NaN</td>\n",
       "      <td>NaN</td>\n",
       "      <td>NaN</td>\n",
       "    </tr>\n",
       "    <tr>\n",
       "      <th>2</th>\n",
       "      <td>3</td>\n",
       "      <td>Voluntary Early Retirement (VER)</td>\n",
       "      <td>05/2012</td>\n",
       "      <td>2011</td>\n",
       "      <td>2011</td>\n",
       "      <td>Schools Officer</td>\n",
       "      <td>NaN</td>\n",
       "      <td>Central Office</td>\n",
       "      <td>Education Queensland</td>\n",
       "      <td>Permanent Full-time</td>\n",
       "      <td>...</td>\n",
       "      <td>N</td>\n",
       "      <td>N</td>\n",
       "      <td>N</td>\n",
       "      <td>Male</td>\n",
       "      <td>61 or older</td>\n",
       "      <td>NaN</td>\n",
       "      <td>NaN</td>\n",
       "      <td>NaN</td>\n",
       "      <td>NaN</td>\n",
       "      <td>NaN</td>\n",
       "    </tr>\n",
       "    <tr>\n",
       "      <th>3</th>\n",
       "      <td>4</td>\n",
       "      <td>Resignation-Other reasons</td>\n",
       "      <td>05/2012</td>\n",
       "      <td>2005</td>\n",
       "      <td>2006</td>\n",
       "      <td>Teacher</td>\n",
       "      <td>Primary</td>\n",
       "      <td>Central Queensland</td>\n",
       "      <td>NaN</td>\n",
       "      <td>Permanent Full-time</td>\n",
       "      <td>...</td>\n",
       "      <td>A</td>\n",
       "      <td>N</td>\n",
       "      <td>A</td>\n",
       "      <td>Female</td>\n",
       "      <td>36-40</td>\n",
       "      <td>NaN</td>\n",
       "      <td>NaN</td>\n",
       "      <td>NaN</td>\n",
       "      <td>NaN</td>\n",
       "      <td>NaN</td>\n",
       "    </tr>\n",
       "    <tr>\n",
       "      <th>4</th>\n",
       "      <td>5</td>\n",
       "      <td>Age Retirement</td>\n",
       "      <td>05/2012</td>\n",
       "      <td>1970</td>\n",
       "      <td>1989</td>\n",
       "      <td>Head of Curriculum/Head of Special Education</td>\n",
       "      <td>NaN</td>\n",
       "      <td>South East</td>\n",
       "      <td>NaN</td>\n",
       "      <td>Permanent Full-time</td>\n",
       "      <td>...</td>\n",
       "      <td>N</td>\n",
       "      <td>A</td>\n",
       "      <td>M</td>\n",
       "      <td>Female</td>\n",
       "      <td>61 or older</td>\n",
       "      <td>NaN</td>\n",
       "      <td>NaN</td>\n",
       "      <td>NaN</td>\n",
       "      <td>NaN</td>\n",
       "      <td>NaN</td>\n",
       "    </tr>\n",
       "  </tbody>\n",
       "</table>\n",
       "<p>5 rows × 56 columns</p>\n",
       "</div>"
      ],
      "text/plain": [
       "   ID                    SeparationType Cease Date DETE Start Date  \\\n",
       "0   1             Ill Health Retirement    08/2012            1984   \n",
       "1   2  Voluntary Early Retirement (VER)    08/2012      Not Stated   \n",
       "2   3  Voluntary Early Retirement (VER)    05/2012            2011   \n",
       "3   4         Resignation-Other reasons    05/2012            2005   \n",
       "4   5                    Age Retirement    05/2012            1970   \n",
       "\n",
       "  Role Start Date                                      Position  \\\n",
       "0            2004                                Public Servant   \n",
       "1      Not Stated                                Public Servant   \n",
       "2            2011                               Schools Officer   \n",
       "3            2006                                       Teacher   \n",
       "4            1989  Head of Curriculum/Head of Special Education   \n",
       "\n",
       "  Classification              Region                      Business Unit  \\\n",
       "0        A01-A04      Central Office  Corporate Strategy and Peformance   \n",
       "1        AO5-AO7      Central Office  Corporate Strategy and Peformance   \n",
       "2            NaN      Central Office               Education Queensland   \n",
       "3        Primary  Central Queensland                                NaN   \n",
       "4            NaN          South East                                NaN   \n",
       "\n",
       "     Employment Status  ...   Kept informed  Wellness programs  \\\n",
       "0  Permanent Full-time  ...               N                  N   \n",
       "1  Permanent Full-time  ...               N                  N   \n",
       "2  Permanent Full-time  ...               N                  N   \n",
       "3  Permanent Full-time  ...               A                  N   \n",
       "4  Permanent Full-time  ...               N                  A   \n",
       "\n",
       "   Health & Safety  Gender          Age  Aboriginal  Torres Strait  South Sea  \\\n",
       "0                N    Male        56-60         NaN            NaN        NaN   \n",
       "1                N    Male        56-60         NaN            NaN        NaN   \n",
       "2                N    Male  61 or older         NaN            NaN        NaN   \n",
       "3                A  Female        36-40         NaN            NaN        NaN   \n",
       "4                M  Female  61 or older         NaN            NaN        NaN   \n",
       "\n",
       "   Disability  NESB  \n",
       "0         NaN   Yes  \n",
       "1         NaN   NaN  \n",
       "2         NaN   NaN  \n",
       "3         NaN   NaN  \n",
       "4         NaN   NaN  \n",
       "\n",
       "[5 rows x 56 columns]"
      ]
     },
     "execution_count": 2,
     "metadata": {},
     "output_type": "execute_result"
    }
   ],
   "source": [
    "dete_survey.info()\n",
    "dete_survey.head()"
   ]
  },
  {
   "cell_type": "code",
   "execution_count": 3,
   "metadata": {
    "collapsed": false
   },
   "outputs": [
    {
     "name": "stdout",
     "output_type": "stream",
     "text": [
      "<class 'pandas.core.frame.DataFrame'>\n",
      "RangeIndex: 702 entries, 0 to 701\n",
      "Data columns (total 72 columns):\n",
      "Record ID                                                                                                                                                        702 non-null float64\n",
      "Institute                                                                                                                                                        702 non-null object\n",
      "WorkArea                                                                                                                                                         702 non-null object\n",
      "CESSATION YEAR                                                                                                                                                   695 non-null float64\n",
      "Reason for ceasing employment                                                                                                                                    701 non-null object\n",
      "Contributing Factors. Career Move - Public Sector                                                                                                                437 non-null object\n",
      "Contributing Factors. Career Move - Private Sector                                                                                                               437 non-null object\n",
      "Contributing Factors. Career Move - Self-employment                                                                                                              437 non-null object\n",
      "Contributing Factors. Ill Health                                                                                                                                 437 non-null object\n",
      "Contributing Factors. Maternity/Family                                                                                                                           437 non-null object\n",
      "Contributing Factors. Dissatisfaction                                                                                                                            437 non-null object\n",
      "Contributing Factors. Job Dissatisfaction                                                                                                                        437 non-null object\n",
      "Contributing Factors. Interpersonal Conflict                                                                                                                     437 non-null object\n",
      "Contributing Factors. Study                                                                                                                                      437 non-null object\n",
      "Contributing Factors. Travel                                                                                                                                     437 non-null object\n",
      "Contributing Factors. Other                                                                                                                                      437 non-null object\n",
      "Contributing Factors. NONE                                                                                                                                       437 non-null object\n",
      "Main Factor. Which of these was the main factor for leaving?                                                                                                     113 non-null object\n",
      "InstituteViews. Topic:1. I feel the senior leadership had a clear vision and direction                                                                           608 non-null object\n",
      "InstituteViews. Topic:2. I was given access to skills training to help me do my job better                                                                       613 non-null object\n",
      "InstituteViews. Topic:3. I was given adequate opportunities for personal development                                                                             610 non-null object\n",
      "InstituteViews. Topic:4. I was given adequate opportunities for promotion within %Institute]Q25LBL%                                                              608 non-null object\n",
      "InstituteViews. Topic:5. I felt the salary for the job was right for the responsibilities I had                                                                  615 non-null object\n",
      "InstituteViews. Topic:6. The organisation recognised when staff did good work                                                                                    607 non-null object\n",
      "InstituteViews. Topic:7. Management was generally supportive of me                                                                                               614 non-null object\n",
      "InstituteViews. Topic:8. Management was generally supportive of my team                                                                                          608 non-null object\n",
      "InstituteViews. Topic:9. I was kept informed of the changes in the organisation which would affect me                                                            610 non-null object\n",
      "InstituteViews. Topic:10. Staff morale was positive within the Institute                                                                                         602 non-null object\n",
      "InstituteViews. Topic:11. If I had a workplace issue it was dealt with quickly                                                                                   601 non-null object\n",
      "InstituteViews. Topic:12. If I had a workplace issue it was dealt with efficiently                                                                               597 non-null object\n",
      "InstituteViews. Topic:13. If I had a workplace issue it was dealt with discreetly                                                                                601 non-null object\n",
      "WorkUnitViews. Topic:14. I was satisfied with the quality of the management and supervision within my work unit                                                  609 non-null object\n",
      "WorkUnitViews. Topic:15. I worked well with my colleagues                                                                                                        605 non-null object\n",
      "WorkUnitViews. Topic:16. My job was challenging and interesting                                                                                                  607 non-null object\n",
      "WorkUnitViews. Topic:17. I was encouraged to use my initiative in the course of my work                                                                          610 non-null object\n",
      "WorkUnitViews. Topic:18. I had sufficient contact with other people in my job                                                                                    613 non-null object\n",
      "WorkUnitViews. Topic:19. I was given adequate support and co-operation by my peers to enable me to do my job                                                     609 non-null object\n",
      "WorkUnitViews. Topic:20. I was able to use the full range of my skills in my job                                                                                 609 non-null object\n",
      "WorkUnitViews. Topic:21. I was able to use the full range of my abilities in my job. ; Category:Level of Agreement; Question:YOUR VIEWS ABOUT YOUR WORK UNIT]    608 non-null object\n",
      "WorkUnitViews. Topic:22. I was able to use the full range of my knowledge in my job                                                                              608 non-null object\n",
      "WorkUnitViews. Topic:23. My job provided sufficient variety                                                                                                      611 non-null object\n",
      "WorkUnitViews. Topic:24. I was able to cope with the level of stress and pressure in my job                                                                      610 non-null object\n",
      "WorkUnitViews. Topic:25. My job allowed me to balance the demands of work and family to my satisfaction                                                          611 non-null object\n",
      "WorkUnitViews. Topic:26. My supervisor gave me adequate personal recognition and feedback on my performance                                                      606 non-null object\n",
      "WorkUnitViews. Topic:27. My working environment was satisfactory e.g. sufficient space, good lighting, suitable seating and working area                         610 non-null object\n",
      "WorkUnitViews. Topic:28. I was given the opportunity to mentor and coach others in order for me to pass on my skills and knowledge prior to my cessation date    609 non-null object\n",
      "WorkUnitViews. Topic:29. There was adequate communication between staff in my unit                                                                               603 non-null object\n",
      "WorkUnitViews. Topic:30. Staff morale was positive within my work unit                                                                                           606 non-null object\n",
      "Induction. Did you undertake Workplace Induction?                                                                                                                619 non-null object\n",
      "InductionInfo. Topic:Did you undertake a Corporate Induction?                                                                                                    432 non-null object\n",
      "InductionInfo. Topic:Did you undertake a Institute Induction?                                                                                                    483 non-null object\n",
      "InductionInfo. Topic: Did you undertake Team Induction?                                                                                                          440 non-null object\n",
      "InductionInfo. Face to Face Topic:Did you undertake a Corporate Induction; Category:How it was conducted?                                                        555 non-null object\n",
      "InductionInfo. On-line Topic:Did you undertake a Corporate Induction; Category:How it was conducted?                                                             555 non-null object\n",
      "InductionInfo. Induction Manual Topic:Did you undertake a Corporate Induction?                                                                                   555 non-null object\n",
      "InductionInfo. Face to Face Topic:Did you undertake a Institute Induction?                                                                                       530 non-null object\n",
      "InductionInfo. On-line Topic:Did you undertake a Institute Induction?                                                                                            555 non-null object\n",
      "InductionInfo. Induction Manual Topic:Did you undertake a Institute Induction?                                                                                   553 non-null object\n",
      "InductionInfo. Face to Face Topic: Did you undertake Team Induction; Category?                                                                                   555 non-null object\n",
      "InductionInfo. On-line Topic: Did you undertake Team Induction?process you undertook and how it was conducted.]                                                  555 non-null object\n",
      "InductionInfo. Induction Manual Topic: Did you undertake Team Induction?                                                                                         555 non-null object\n",
      "Workplace. Topic:Did you and your Manager develop a Performance and Professional Development Plan (PPDP)?                                                        608 non-null object\n",
      "Workplace. Topic:Does your workplace promote a work culture free from all forms of unlawful discrimination?                                                      594 non-null object\n",
      "Workplace. Topic:Does your workplace promote and practice the principles of employment equity?                                                                   587 non-null object\n",
      "Workplace. Topic:Does your workplace value the diversity of its employees?                                                                                       586 non-null object\n",
      "Workplace. Topic:Would you recommend the Institute as an employer to others?                                                                                     581 non-null object\n",
      "Gender. What is your Gender?                                                                                                                                     596 non-null object\n",
      "CurrentAge. Current Age                                                                                                                                          596 non-null object\n",
      "Employment Type. Employment Type                                                                                                                                 596 non-null object\n",
      "Classification. Classification                                                                                                                                   596 non-null object\n",
      "LengthofServiceOverall. Overall Length of Service at Institute (in years)                                                                                        596 non-null object\n",
      "LengthofServiceCurrent. Length of Service at current workplace (in years)                                                                                        596 non-null object\n",
      "dtypes: float64(2), object(70)\n",
      "memory usage: 395.0+ KB\n"
     ]
    },
    {
     "data": {
      "text/html": [
       "<div>\n",
       "<style scoped>\n",
       "    .dataframe tbody tr th:only-of-type {\n",
       "        vertical-align: middle;\n",
       "    }\n",
       "\n",
       "    .dataframe tbody tr th {\n",
       "        vertical-align: top;\n",
       "    }\n",
       "\n",
       "    .dataframe thead th {\n",
       "        text-align: right;\n",
       "    }\n",
       "</style>\n",
       "<table border=\"1\" class=\"dataframe\">\n",
       "  <thead>\n",
       "    <tr style=\"text-align: right;\">\n",
       "      <th></th>\n",
       "      <th>Record ID</th>\n",
       "      <th>Institute</th>\n",
       "      <th>WorkArea</th>\n",
       "      <th>CESSATION YEAR</th>\n",
       "      <th>Reason for ceasing employment</th>\n",
       "      <th>Contributing Factors. Career Move - Public Sector</th>\n",
       "      <th>Contributing Factors. Career Move - Private Sector</th>\n",
       "      <th>Contributing Factors. Career Move - Self-employment</th>\n",
       "      <th>Contributing Factors. Ill Health</th>\n",
       "      <th>Contributing Factors. Maternity/Family</th>\n",
       "      <th>...</th>\n",
       "      <th>Workplace. Topic:Does your workplace promote a work culture free from all forms of unlawful discrimination?</th>\n",
       "      <th>Workplace. Topic:Does your workplace promote and practice the principles of employment equity?</th>\n",
       "      <th>Workplace. Topic:Does your workplace value the diversity of its employees?</th>\n",
       "      <th>Workplace. Topic:Would you recommend the Institute as an employer to others?</th>\n",
       "      <th>Gender. What is your Gender?</th>\n",
       "      <th>CurrentAge. Current Age</th>\n",
       "      <th>Employment Type. Employment Type</th>\n",
       "      <th>Classification. Classification</th>\n",
       "      <th>LengthofServiceOverall. Overall Length of Service at Institute (in years)</th>\n",
       "      <th>LengthofServiceCurrent. Length of Service at current workplace (in years)</th>\n",
       "    </tr>\n",
       "  </thead>\n",
       "  <tbody>\n",
       "    <tr>\n",
       "      <th>0</th>\n",
       "      <td>6.341330e+17</td>\n",
       "      <td>Southern Queensland Institute of TAFE</td>\n",
       "      <td>Non-Delivery (corporate)</td>\n",
       "      <td>2010.0</td>\n",
       "      <td>Contract Expired</td>\n",
       "      <td>NaN</td>\n",
       "      <td>NaN</td>\n",
       "      <td>NaN</td>\n",
       "      <td>NaN</td>\n",
       "      <td>NaN</td>\n",
       "      <td>...</td>\n",
       "      <td>Yes</td>\n",
       "      <td>Yes</td>\n",
       "      <td>Yes</td>\n",
       "      <td>Yes</td>\n",
       "      <td>Female</td>\n",
       "      <td>26  30</td>\n",
       "      <td>Temporary Full-time</td>\n",
       "      <td>Administration (AO)</td>\n",
       "      <td>1-2</td>\n",
       "      <td>1-2</td>\n",
       "    </tr>\n",
       "    <tr>\n",
       "      <th>1</th>\n",
       "      <td>6.341337e+17</td>\n",
       "      <td>Mount Isa Institute of TAFE</td>\n",
       "      <td>Non-Delivery (corporate)</td>\n",
       "      <td>2010.0</td>\n",
       "      <td>Retirement</td>\n",
       "      <td>-</td>\n",
       "      <td>-</td>\n",
       "      <td>-</td>\n",
       "      <td>-</td>\n",
       "      <td>-</td>\n",
       "      <td>...</td>\n",
       "      <td>Yes</td>\n",
       "      <td>Yes</td>\n",
       "      <td>Yes</td>\n",
       "      <td>Yes</td>\n",
       "      <td>NaN</td>\n",
       "      <td>NaN</td>\n",
       "      <td>NaN</td>\n",
       "      <td>NaN</td>\n",
       "      <td>NaN</td>\n",
       "      <td>NaN</td>\n",
       "    </tr>\n",
       "    <tr>\n",
       "      <th>2</th>\n",
       "      <td>6.341388e+17</td>\n",
       "      <td>Mount Isa Institute of TAFE</td>\n",
       "      <td>Delivery (teaching)</td>\n",
       "      <td>2010.0</td>\n",
       "      <td>Retirement</td>\n",
       "      <td>-</td>\n",
       "      <td>-</td>\n",
       "      <td>-</td>\n",
       "      <td>-</td>\n",
       "      <td>-</td>\n",
       "      <td>...</td>\n",
       "      <td>Yes</td>\n",
       "      <td>Yes</td>\n",
       "      <td>Yes</td>\n",
       "      <td>Yes</td>\n",
       "      <td>NaN</td>\n",
       "      <td>NaN</td>\n",
       "      <td>NaN</td>\n",
       "      <td>NaN</td>\n",
       "      <td>NaN</td>\n",
       "      <td>NaN</td>\n",
       "    </tr>\n",
       "    <tr>\n",
       "      <th>3</th>\n",
       "      <td>6.341399e+17</td>\n",
       "      <td>Mount Isa Institute of TAFE</td>\n",
       "      <td>Non-Delivery (corporate)</td>\n",
       "      <td>2010.0</td>\n",
       "      <td>Resignation</td>\n",
       "      <td>-</td>\n",
       "      <td>-</td>\n",
       "      <td>-</td>\n",
       "      <td>-</td>\n",
       "      <td>-</td>\n",
       "      <td>...</td>\n",
       "      <td>Yes</td>\n",
       "      <td>Yes</td>\n",
       "      <td>Yes</td>\n",
       "      <td>Yes</td>\n",
       "      <td>NaN</td>\n",
       "      <td>NaN</td>\n",
       "      <td>NaN</td>\n",
       "      <td>NaN</td>\n",
       "      <td>NaN</td>\n",
       "      <td>NaN</td>\n",
       "    </tr>\n",
       "    <tr>\n",
       "      <th>4</th>\n",
       "      <td>6.341466e+17</td>\n",
       "      <td>Southern Queensland Institute of TAFE</td>\n",
       "      <td>Delivery (teaching)</td>\n",
       "      <td>2010.0</td>\n",
       "      <td>Resignation</td>\n",
       "      <td>-</td>\n",
       "      <td>Career Move - Private Sector</td>\n",
       "      <td>-</td>\n",
       "      <td>-</td>\n",
       "      <td>-</td>\n",
       "      <td>...</td>\n",
       "      <td>Yes</td>\n",
       "      <td>Yes</td>\n",
       "      <td>Yes</td>\n",
       "      <td>Yes</td>\n",
       "      <td>Male</td>\n",
       "      <td>41  45</td>\n",
       "      <td>Permanent Full-time</td>\n",
       "      <td>Teacher (including LVT)</td>\n",
       "      <td>3-4</td>\n",
       "      <td>3-4</td>\n",
       "    </tr>\n",
       "  </tbody>\n",
       "</table>\n",
       "<p>5 rows × 72 columns</p>\n",
       "</div>"
      ],
      "text/plain": [
       "      Record ID                              Institute  \\\n",
       "0  6.341330e+17  Southern Queensland Institute of TAFE   \n",
       "1  6.341337e+17            Mount Isa Institute of TAFE   \n",
       "2  6.341388e+17            Mount Isa Institute of TAFE   \n",
       "3  6.341399e+17            Mount Isa Institute of TAFE   \n",
       "4  6.341466e+17  Southern Queensland Institute of TAFE   \n",
       "\n",
       "                   WorkArea  CESSATION YEAR Reason for ceasing employment  \\\n",
       "0  Non-Delivery (corporate)          2010.0              Contract Expired   \n",
       "1  Non-Delivery (corporate)          2010.0                    Retirement   \n",
       "2       Delivery (teaching)          2010.0                    Retirement   \n",
       "3  Non-Delivery (corporate)          2010.0                   Resignation   \n",
       "4       Delivery (teaching)          2010.0                   Resignation   \n",
       "\n",
       "  Contributing Factors. Career Move - Public Sector   \\\n",
       "0                                                NaN   \n",
       "1                                                  -   \n",
       "2                                                  -   \n",
       "3                                                  -   \n",
       "4                                                  -   \n",
       "\n",
       "  Contributing Factors. Career Move - Private Sector   \\\n",
       "0                                                NaN    \n",
       "1                                                  -    \n",
       "2                                                  -    \n",
       "3                                                  -    \n",
       "4                       Career Move - Private Sector    \n",
       "\n",
       "  Contributing Factors. Career Move - Self-employment  \\\n",
       "0                                                NaN    \n",
       "1                                                  -    \n",
       "2                                                  -    \n",
       "3                                                  -    \n",
       "4                                                  -    \n",
       "\n",
       "  Contributing Factors. Ill Health Contributing Factors. Maternity/Family  \\\n",
       "0                              NaN                                    NaN   \n",
       "1                                -                                      -   \n",
       "2                                -                                      -   \n",
       "3                                -                                      -   \n",
       "4                                -                                      -   \n",
       "\n",
       "                                     ...                                     \\\n",
       "0                                    ...                                      \n",
       "1                                    ...                                      \n",
       "2                                    ...                                      \n",
       "3                                    ...                                      \n",
       "4                                    ...                                      \n",
       "\n",
       "  Workplace. Topic:Does your workplace promote a work culture free from all forms of unlawful discrimination?  \\\n",
       "0                                                Yes                                                            \n",
       "1                                                Yes                                                            \n",
       "2                                                Yes                                                            \n",
       "3                                                Yes                                                            \n",
       "4                                                Yes                                                            \n",
       "\n",
       "  Workplace. Topic:Does your workplace promote and practice the principles of employment equity?  \\\n",
       "0                                                Yes                                               \n",
       "1                                                Yes                                               \n",
       "2                                                Yes                                               \n",
       "3                                                Yes                                               \n",
       "4                                                Yes                                               \n",
       "\n",
       "  Workplace. Topic:Does your workplace value the diversity of its employees?  \\\n",
       "0                                                Yes                           \n",
       "1                                                Yes                           \n",
       "2                                                Yes                           \n",
       "3                                                Yes                           \n",
       "4                                                Yes                           \n",
       "\n",
       "  Workplace. Topic:Would you recommend the Institute as an employer to others?  \\\n",
       "0                                                Yes                             \n",
       "1                                                Yes                             \n",
       "2                                                Yes                             \n",
       "3                                                Yes                             \n",
       "4                                                Yes                             \n",
       "\n",
       "  Gender. What is your Gender? CurrentAge. Current Age  \\\n",
       "0                       Female                  26  30   \n",
       "1                          NaN                     NaN   \n",
       "2                          NaN                     NaN   \n",
       "3                          NaN                     NaN   \n",
       "4                         Male                  41  45   \n",
       "\n",
       "  Employment Type. Employment Type Classification. Classification  \\\n",
       "0              Temporary Full-time            Administration (AO)   \n",
       "1                              NaN                            NaN   \n",
       "2                              NaN                            NaN   \n",
       "3                              NaN                            NaN   \n",
       "4              Permanent Full-time        Teacher (including LVT)   \n",
       "\n",
       "  LengthofServiceOverall. Overall Length of Service at Institute (in years)  \\\n",
       "0                                                1-2                          \n",
       "1                                                NaN                          \n",
       "2                                                NaN                          \n",
       "3                                                NaN                          \n",
       "4                                                3-4                          \n",
       "\n",
       "  LengthofServiceCurrent. Length of Service at current workplace (in years)  \n",
       "0                                                1-2                         \n",
       "1                                                NaN                         \n",
       "2                                                NaN                         \n",
       "3                                                NaN                         \n",
       "4                                                3-4                         \n",
       "\n",
       "[5 rows x 72 columns]"
      ]
     },
     "execution_count": 3,
     "metadata": {},
     "output_type": "execute_result"
    }
   ],
   "source": [
    "tafe_survey.info()\n",
    "tafe_survey.head()"
   ]
  },
  {
   "cell_type": "markdown",
   "metadata": {},
   "source": [
    "Initial Exploration\n",
    "---"
   ]
  },
  {
   "cell_type": "code",
   "execution_count": 4,
   "metadata": {
    "collapsed": false
   },
   "outputs": [
    {
     "data": {
      "text/plain": [
       "False    0.925791\n",
       "True     0.074209\n",
       "Name: Dissatisfaction with the department, dtype: float64"
      ]
     },
     "execution_count": 4,
     "metadata": {},
     "output_type": "execute_result"
    }
   ],
   "source": [
    "dete_survey[\"Dissatisfaction with the department\"].value_counts(normalize=True)"
   ]
  },
  {
   "cell_type": "code",
   "execution_count": 5,
   "metadata": {
    "collapsed": false
   },
   "outputs": [
    {
     "data": {
      "text/plain": [
       "False    0.89\n",
       "True     0.11\n",
       "Name: Job dissatisfaction, dtype: float64"
      ]
     },
     "execution_count": 5,
     "metadata": {},
     "output_type": "execute_result"
    }
   ],
   "source": [
    "dete_survey[\"Job dissatisfaction\"].value_counts(normalize=True).round(2)"
   ]
  },
  {
   "cell_type": "code",
   "execution_count": 6,
   "metadata": {
    "collapsed": false
   },
   "outputs": [
    {
     "data": {
      "text/plain": [
       "Age Retirement                          0.35\n",
       "Resignation-Other reasons               0.18\n",
       "Resignation-Other employer              0.11\n",
       "Resignation-Move overseas/interstate    0.09\n",
       "Voluntary Early Retirement (VER)        0.08\n",
       "Ill Health Retirement                   0.07\n",
       "Other                                   0.06\n",
       "Contract Expired                        0.04\n",
       "Termination                             0.02\n",
       "Name: SeparationType, dtype: float64"
      ]
     },
     "execution_count": 6,
     "metadata": {},
     "output_type": "execute_result"
    }
   ],
   "source": [
    "dete_survey[\"SeparationType\"].value_counts(normalize=True).round(2)"
   ]
  },
  {
   "cell_type": "markdown",
   "metadata": {},
   "source": [
    "According to DETE Survey: \n",
    "* 7.4% of the respondests are dissatisfied with their department.\n",
    "* 11% of the respondents are dissataisfied with their jobs.\n",
    "* The most common reason for seperation is age retirement with 35% followed by Resignation due to other reasons with 18%."
   ]
  },
  {
   "cell_type": "code",
   "execution_count": 7,
   "metadata": {
    "collapsed": false
   },
   "outputs": [
    {
     "data": {
      "text/plain": [
       "Less than 1 year      0.25\n",
       "1-2                   0.17\n",
       "3-4                   0.16\n",
       "11-20                 0.15\n",
       "More than 20 years    0.12\n",
       "5-6                   0.08\n",
       "7-10                  0.07\n",
       "Name: LengthofServiceOverall. Overall Length of Service at Institute (in years), dtype: float64"
      ]
     },
     "execution_count": 7,
     "metadata": {},
     "output_type": "execute_result"
    }
   ],
   "source": [
    "(tafe_survey[\"LengthofServiceOverall. Overall Length of Service at Institute (in years)\"]\n",
    " .value_counts(normalize=True)\n",
    " .round(2))"
   ]
  },
  {
   "cell_type": "code",
   "execution_count": 8,
   "metadata": {
    "collapsed": false
   },
   "outputs": [
    {
     "data": {
      "text/plain": [
       "Resignation                 0.49\n",
       "Contract Expired            0.18\n",
       "Retrenchment/ Redundancy    0.15\n",
       "Retirement                  0.12\n",
       "Transfer                    0.04\n",
       "Termination                 0.03\n",
       "Name: Reason for ceasing employment, dtype: float64"
      ]
     },
     "execution_count": 8,
     "metadata": {},
     "output_type": "execute_result"
    }
   ],
   "source": [
    "(tafe_survey[\"Reason for ceasing employment\"]\n",
    " .value_counts(normalize=True)\n",
    " .round(2))"
   ]
  },
  {
   "cell_type": "markdown",
   "metadata": {},
   "source": [
    "According to TAFE Survey:\n",
    "* 25% of the employees work less then a year in a company.\n",
    "* The most common reason for ceasing is resignation with 49% followed by contract expiration with 18%."
   ]
  },
  {
   "cell_type": "markdown",
   "metadata": {},
   "source": [
    "It looks like the most common reason for the exits is resignation and retirement."
   ]
  },
  {
   "cell_type": "markdown",
   "metadata": {},
   "source": [
    "Identify Missing Values and Drop Unnecessary Columns\n",
    "---"
   ]
  },
  {
   "cell_type": "code",
   "execution_count": 9,
   "metadata": {
    "collapsed": false
   },
   "outputs": [
    {
     "data": {
      "text/plain": [
       "ID                                       0\n",
       "SeparationType                           0\n",
       "Cease Date                               0\n",
       "DETE Start Date                          0\n",
       "Role Start Date                          0\n",
       "Position                                 5\n",
       "Classification                         367\n",
       "Region                                   0\n",
       "Business Unit                          696\n",
       "Employment Status                        5\n",
       "Career move to public sector             0\n",
       "Career move to private sector            0\n",
       "Interpersonal conflicts                  0\n",
       "Job dissatisfaction                      0\n",
       "Dissatisfaction with the department      0\n",
       "Physical work environment                0\n",
       "Lack of recognition                      0\n",
       "Lack of job security                     0\n",
       "Work location                            0\n",
       "Employment conditions                    0\n",
       "Maternity/family                         0\n",
       "Relocation                               0\n",
       "Study/Travel                             0\n",
       "Ill Health                               0\n",
       "Traumatic incident                       0\n",
       "Work life balance                        0\n",
       "Workload                                 0\n",
       "None of the above                        0\n",
       "Professional Development                14\n",
       "Opportunities for promotion             87\n",
       "Staff morale                             6\n",
       "Workplace issue                         34\n",
       "Physical environment                     5\n",
       "Worklife balance                         7\n",
       "Stress and pressure support             12\n",
       "Performance of supervisor                9\n",
       "Peer support                            10\n",
       "Initiative                               9\n",
       "Skills                                  11\n",
       "Coach                                   55\n",
       "Career Aspirations                      76\n",
       "Feedback                                30\n",
       "Further PD                              54\n",
       "Communication                            8\n",
       "My say                                  10\n",
       "Information                              6\n",
       "Kept informed                            9\n",
       "Wellness programs                       56\n",
       "Health & Safety                         29\n",
       "Gender                                  24\n",
       "Age                                     11\n",
       "Aboriginal                             806\n",
       "Torres Strait                          819\n",
       "South Sea                              815\n",
       "Disability                             799\n",
       "NESB                                   790\n",
       "dtype: int64"
      ]
     },
     "execution_count": 9,
     "metadata": {},
     "output_type": "execute_result"
    }
   ],
   "source": [
    "dete_survey.isnull().sum()"
   ]
  },
  {
   "cell_type": "code",
   "execution_count": 10,
   "metadata": {
    "collapsed": false
   },
   "outputs": [
    {
     "data": {
      "text/plain": [
       "Record ID                                                                                                                                                          0\n",
       "Institute                                                                                                                                                          0\n",
       "WorkArea                                                                                                                                                           0\n",
       "CESSATION YEAR                                                                                                                                                     7\n",
       "Reason for ceasing employment                                                                                                                                      1\n",
       "Contributing Factors. Career Move - Public Sector                                                                                                                265\n",
       "Contributing Factors. Career Move - Private Sector                                                                                                               265\n",
       "Contributing Factors. Career Move - Self-employment                                                                                                              265\n",
       "Contributing Factors. Ill Health                                                                                                                                 265\n",
       "Contributing Factors. Maternity/Family                                                                                                                           265\n",
       "Contributing Factors. Dissatisfaction                                                                                                                            265\n",
       "Contributing Factors. Job Dissatisfaction                                                                                                                        265\n",
       "Contributing Factors. Interpersonal Conflict                                                                                                                     265\n",
       "Contributing Factors. Study                                                                                                                                      265\n",
       "Contributing Factors. Travel                                                                                                                                     265\n",
       "Contributing Factors. Other                                                                                                                                      265\n",
       "Contributing Factors. NONE                                                                                                                                       265\n",
       "Main Factor. Which of these was the main factor for leaving?                                                                                                     589\n",
       "InstituteViews. Topic:1. I feel the senior leadership had a clear vision and direction                                                                            94\n",
       "InstituteViews. Topic:2. I was given access to skills training to help me do my job better                                                                        89\n",
       "InstituteViews. Topic:3. I was given adequate opportunities for personal development                                                                              92\n",
       "InstituteViews. Topic:4. I was given adequate opportunities for promotion within %Institute]Q25LBL%                                                               94\n",
       "InstituteViews. Topic:5. I felt the salary for the job was right for the responsibilities I had                                                                   87\n",
       "InstituteViews. Topic:6. The organisation recognised when staff did good work                                                                                     95\n",
       "InstituteViews. Topic:7. Management was generally supportive of me                                                                                                88\n",
       "InstituteViews. Topic:8. Management was generally supportive of my team                                                                                           94\n",
       "InstituteViews. Topic:9. I was kept informed of the changes in the organisation which would affect me                                                             92\n",
       "InstituteViews. Topic:10. Staff morale was positive within the Institute                                                                                         100\n",
       "InstituteViews. Topic:11. If I had a workplace issue it was dealt with quickly                                                                                   101\n",
       "InstituteViews. Topic:12. If I had a workplace issue it was dealt with efficiently                                                                               105\n",
       "                                                                                                                                                                ... \n",
       "WorkUnitViews. Topic:25. My job allowed me to balance the demands of work and family to my satisfaction                                                           91\n",
       "WorkUnitViews. Topic:26. My supervisor gave me adequate personal recognition and feedback on my performance                                                       96\n",
       "WorkUnitViews. Topic:27. My working environment was satisfactory e.g. sufficient space, good lighting, suitable seating and working area                          92\n",
       "WorkUnitViews. Topic:28. I was given the opportunity to mentor and coach others in order for me to pass on my skills and knowledge prior to my cessation date     93\n",
       "WorkUnitViews. Topic:29. There was adequate communication between staff in my unit                                                                                99\n",
       "WorkUnitViews. Topic:30. Staff morale was positive within my work unit                                                                                            96\n",
       "Induction. Did you undertake Workplace Induction?                                                                                                                 83\n",
       "InductionInfo. Topic:Did you undertake a Corporate Induction?                                                                                                    270\n",
       "InductionInfo. Topic:Did you undertake a Institute Induction?                                                                                                    219\n",
       "InductionInfo. Topic: Did you undertake Team Induction?                                                                                                          262\n",
       "InductionInfo. Face to Face Topic:Did you undertake a Corporate Induction; Category:How it was conducted?                                                        147\n",
       "InductionInfo. On-line Topic:Did you undertake a Corporate Induction; Category:How it was conducted?                                                             147\n",
       "InductionInfo. Induction Manual Topic:Did you undertake a Corporate Induction?                                                                                   147\n",
       "InductionInfo. Face to Face Topic:Did you undertake a Institute Induction?                                                                                       172\n",
       "InductionInfo. On-line Topic:Did you undertake a Institute Induction?                                                                                            147\n",
       "InductionInfo. Induction Manual Topic:Did you undertake a Institute Induction?                                                                                   149\n",
       "InductionInfo. Face to Face Topic: Did you undertake Team Induction; Category?                                                                                   147\n",
       "InductionInfo. On-line Topic: Did you undertake Team Induction?process you undertook and how it was conducted.]                                                  147\n",
       "InductionInfo. Induction Manual Topic: Did you undertake Team Induction?                                                                                         147\n",
       "Workplace. Topic:Did you and your Manager develop a Performance and Professional Development Plan (PPDP)?                                                         94\n",
       "Workplace. Topic:Does your workplace promote a work culture free from all forms of unlawful discrimination?                                                      108\n",
       "Workplace. Topic:Does your workplace promote and practice the principles of employment equity?                                                                   115\n",
       "Workplace. Topic:Does your workplace value the diversity of its employees?                                                                                       116\n",
       "Workplace. Topic:Would you recommend the Institute as an employer to others?                                                                                     121\n",
       "Gender. What is your Gender?                                                                                                                                     106\n",
       "CurrentAge. Current Age                                                                                                                                          106\n",
       "Employment Type. Employment Type                                                                                                                                 106\n",
       "Classification. Classification                                                                                                                                   106\n",
       "LengthofServiceOverall. Overall Length of Service at Institute (in years)                                                                                        106\n",
       "LengthofServiceCurrent. Length of Service at current workplace (in years)                                                                                        106\n",
       "Length: 72, dtype: int64"
      ]
     },
     "execution_count": 10,
     "metadata": {},
     "output_type": "execute_result"
    }
   ],
   "source": [
    "tafe_survey.isnull().sum()"
   ]
  },
  {
   "cell_type": "code",
   "execution_count": 11,
   "metadata": {
    "collapsed": false
   },
   "outputs": [],
   "source": [
    "dete_survey = pd.read_csv(\"dete_survey.csv\", na_values=\"Not Stated\")"
   ]
  },
  {
   "cell_type": "markdown",
   "metadata": {},
   "source": [
    "We will drop the columns that we won't use in our analysis. We do this to make the dataframes easier to work with."
   ]
  },
  {
   "cell_type": "code",
   "execution_count": 12,
   "metadata": {
    "collapsed": false
   },
   "outputs": [
    {
     "name": "stdout",
     "output_type": "stream",
     "text": [
      "Index(['ID', 'SeparationType', 'Cease Date', 'DETE Start Date',\n",
      "       'Role Start Date', 'Position', 'Classification', 'Region',\n",
      "       'Business Unit', 'Employment Status', 'Career move to public sector',\n",
      "       'Career move to private sector', 'Interpersonal conflicts',\n",
      "       'Job dissatisfaction', 'Dissatisfaction with the department',\n",
      "       'Physical work environment', 'Lack of recognition',\n",
      "       'Lack of job security', 'Work location', 'Employment conditions',\n",
      "       'Maternity/family', 'Relocation', 'Study/Travel', 'Ill Health',\n",
      "       'Traumatic incident', 'Work life balance', 'Workload',\n",
      "       'None of the above', 'Gender', 'Age', 'Aboriginal', 'Torres Strait',\n",
      "       'South Sea', 'Disability', 'NESB'],\n",
      "      dtype='object')\n",
      "Index(['Record ID', 'Institute', 'WorkArea', 'CESSATION YEAR',\n",
      "       'Reason for ceasing employment',\n",
      "       'Contributing Factors. Career Move - Public Sector ',\n",
      "       'Contributing Factors. Career Move - Private Sector ',\n",
      "       'Contributing Factors. Career Move - Self-employment',\n",
      "       'Contributing Factors. Ill Health',\n",
      "       'Contributing Factors. Maternity/Family',\n",
      "       'Contributing Factors. Dissatisfaction',\n",
      "       'Contributing Factors. Job Dissatisfaction',\n",
      "       'Contributing Factors. Interpersonal Conflict',\n",
      "       'Contributing Factors. Study', 'Contributing Factors. Travel',\n",
      "       'Contributing Factors. Other', 'Contributing Factors. NONE',\n",
      "       'Gender. What is your Gender?', 'CurrentAge. Current Age',\n",
      "       'Employment Type. Employment Type', 'Classification. Classification',\n",
      "       'LengthofServiceOverall. Overall Length of Service at Institute (in years)',\n",
      "       'LengthofServiceCurrent. Length of Service at current workplace (in years)'],\n",
      "      dtype='object')\n"
     ]
    }
   ],
   "source": [
    "dete_survey_updated = dete_survey.drop(dete_survey.columns[28:49], axis=1)\n",
    "tafe_survey_updated = tafe_survey.drop(tafe_survey.columns[17:66], axis=1)\n",
    "print(dete_survey_updated.columns)\n",
    "print(tafe_survey_updated.columns)"
   ]
  },
  {
   "cell_type": "markdown",
   "metadata": {},
   "source": [
    "Clean Column Names\n",
    "---"
   ]
  },
  {
   "cell_type": "markdown",
   "metadata": {},
   "source": [
    "Next, we will standardize the column names."
   ]
  },
  {
   "cell_type": "code",
   "execution_count": 13,
   "metadata": {
    "collapsed": true
   },
   "outputs": [],
   "source": [
    "dete_survey_updated.columns = dete_survey_updated.columns.str.lower().str.strip().str.replace(' ', '_')"
   ]
  },
  {
   "cell_type": "code",
   "execution_count": 14,
   "metadata": {
    "collapsed": false
   },
   "outputs": [
    {
     "data": {
      "text/plain": [
       "Index(['id', 'separationtype', 'cease_date', 'dete_start_date',\n",
       "       'role_start_date', 'position', 'classification', 'region',\n",
       "       'business_unit', 'employment_status', 'career_move_to_public_sector',\n",
       "       'career_move_to_private_sector', 'interpersonal_conflicts',\n",
       "       'job_dissatisfaction', 'dissatisfaction_with_the_department',\n",
       "       'physical_work_environment', 'lack_of_recognition',\n",
       "       'lack_of_job_security', 'work_location', 'employment_conditions',\n",
       "       'maternity/family', 'relocation', 'study/travel', 'ill_health',\n",
       "       'traumatic_incident', 'work_life_balance', 'workload',\n",
       "       'none_of_the_above', 'gender', 'age', 'aboriginal', 'torres_strait',\n",
       "       'south_sea', 'disability', 'nesb'],\n",
       "      dtype='object')"
      ]
     },
     "execution_count": 14,
     "metadata": {},
     "output_type": "execute_result"
    }
   ],
   "source": [
    "dete_survey_updated.columns"
   ]
  },
  {
   "cell_type": "code",
   "execution_count": 15,
   "metadata": {
    "collapsed": false
   },
   "outputs": [],
   "source": [
    "tafe_survey_updated = tafe_survey_updated.rename({'Record ID': 'id'\n",
    ",'CESSATION YEAR': 'cease_date'\n",
    ",'Reason for ceasing employment': 'separationtype'\n",
    ",'Gender. What is your Gender?': 'gender'\n",
    ",'CurrentAge. Current Age': 'age'\n",
    ",'Employment Type. Employment Type': 'employment_status'\n",
    ",'Classification. Classification': 'position'\n",
    ",'LengthofServiceOverall. Overall Length of Service at Institute (in years)': 'institute_service'\n",
    ",'LengthofServiceCurrent. Length of Service at current workplace (in years)': 'role_service'}, axis=1)"
   ]
  },
  {
   "cell_type": "code",
   "execution_count": 16,
   "metadata": {
    "collapsed": false
   },
   "outputs": [
    {
     "data": {
      "text/html": [
       "<div>\n",
       "<style scoped>\n",
       "    .dataframe tbody tr th:only-of-type {\n",
       "        vertical-align: middle;\n",
       "    }\n",
       "\n",
       "    .dataframe tbody tr th {\n",
       "        vertical-align: top;\n",
       "    }\n",
       "\n",
       "    .dataframe thead th {\n",
       "        text-align: right;\n",
       "    }\n",
       "</style>\n",
       "<table border=\"1\" class=\"dataframe\">\n",
       "  <thead>\n",
       "    <tr style=\"text-align: right;\">\n",
       "      <th></th>\n",
       "      <th>id</th>\n",
       "      <th>Institute</th>\n",
       "      <th>WorkArea</th>\n",
       "      <th>cease_date</th>\n",
       "      <th>separationtype</th>\n",
       "      <th>Contributing Factors. Career Move - Public Sector</th>\n",
       "      <th>Contributing Factors. Career Move - Private Sector</th>\n",
       "      <th>Contributing Factors. Career Move - Self-employment</th>\n",
       "      <th>Contributing Factors. Ill Health</th>\n",
       "      <th>Contributing Factors. Maternity/Family</th>\n",
       "      <th>...</th>\n",
       "      <th>Contributing Factors. Study</th>\n",
       "      <th>Contributing Factors. Travel</th>\n",
       "      <th>Contributing Factors. Other</th>\n",
       "      <th>Contributing Factors. NONE</th>\n",
       "      <th>gender</th>\n",
       "      <th>age</th>\n",
       "      <th>employment_status</th>\n",
       "      <th>position</th>\n",
       "      <th>institute_service</th>\n",
       "      <th>role_service</th>\n",
       "    </tr>\n",
       "  </thead>\n",
       "  <tbody>\n",
       "    <tr>\n",
       "      <th>0</th>\n",
       "      <td>6.341330e+17</td>\n",
       "      <td>Southern Queensland Institute of TAFE</td>\n",
       "      <td>Non-Delivery (corporate)</td>\n",
       "      <td>2010.0</td>\n",
       "      <td>Contract Expired</td>\n",
       "      <td>NaN</td>\n",
       "      <td>NaN</td>\n",
       "      <td>NaN</td>\n",
       "      <td>NaN</td>\n",
       "      <td>NaN</td>\n",
       "      <td>...</td>\n",
       "      <td>NaN</td>\n",
       "      <td>NaN</td>\n",
       "      <td>NaN</td>\n",
       "      <td>NaN</td>\n",
       "      <td>Female</td>\n",
       "      <td>26  30</td>\n",
       "      <td>Temporary Full-time</td>\n",
       "      <td>Administration (AO)</td>\n",
       "      <td>1-2</td>\n",
       "      <td>1-2</td>\n",
       "    </tr>\n",
       "    <tr>\n",
       "      <th>1</th>\n",
       "      <td>6.341337e+17</td>\n",
       "      <td>Mount Isa Institute of TAFE</td>\n",
       "      <td>Non-Delivery (corporate)</td>\n",
       "      <td>2010.0</td>\n",
       "      <td>Retirement</td>\n",
       "      <td>-</td>\n",
       "      <td>-</td>\n",
       "      <td>-</td>\n",
       "      <td>-</td>\n",
       "      <td>-</td>\n",
       "      <td>...</td>\n",
       "      <td>-</td>\n",
       "      <td>Travel</td>\n",
       "      <td>-</td>\n",
       "      <td>-</td>\n",
       "      <td>NaN</td>\n",
       "      <td>NaN</td>\n",
       "      <td>NaN</td>\n",
       "      <td>NaN</td>\n",
       "      <td>NaN</td>\n",
       "      <td>NaN</td>\n",
       "    </tr>\n",
       "  </tbody>\n",
       "</table>\n",
       "<p>2 rows × 23 columns</p>\n",
       "</div>"
      ],
      "text/plain": [
       "             id                              Institute  \\\n",
       "0  6.341330e+17  Southern Queensland Institute of TAFE   \n",
       "1  6.341337e+17            Mount Isa Institute of TAFE   \n",
       "\n",
       "                   WorkArea  cease_date    separationtype  \\\n",
       "0  Non-Delivery (corporate)      2010.0  Contract Expired   \n",
       "1  Non-Delivery (corporate)      2010.0        Retirement   \n",
       "\n",
       "  Contributing Factors. Career Move - Public Sector   \\\n",
       "0                                                NaN   \n",
       "1                                                  -   \n",
       "\n",
       "  Contributing Factors. Career Move - Private Sector   \\\n",
       "0                                                NaN    \n",
       "1                                                  -    \n",
       "\n",
       "  Contributing Factors. Career Move - Self-employment  \\\n",
       "0                                                NaN    \n",
       "1                                                  -    \n",
       "\n",
       "  Contributing Factors. Ill Health Contributing Factors. Maternity/Family  \\\n",
       "0                              NaN                                    NaN   \n",
       "1                                -                                      -   \n",
       "\n",
       "      ...      Contributing Factors. Study Contributing Factors. Travel  \\\n",
       "0     ...                              NaN                          NaN   \n",
       "1     ...                                -                       Travel   \n",
       "\n",
       "  Contributing Factors. Other Contributing Factors. NONE  gender     age  \\\n",
       "0                         NaN                        NaN  Female  26  30   \n",
       "1                           -                          -     NaN     NaN   \n",
       "\n",
       "     employment_status             position institute_service role_service  \n",
       "0  Temporary Full-time  Administration (AO)               1-2          1-2  \n",
       "1                  NaN                  NaN               NaN          NaN  \n",
       "\n",
       "[2 rows x 23 columns]"
      ]
     },
     "execution_count": 16,
     "metadata": {},
     "output_type": "execute_result"
    }
   ],
   "source": [
    "tafe_survey_updated.head(2)"
   ]
  },
  {
   "cell_type": "markdown",
   "metadata": {},
   "source": [
    "As we explained before, we changed some of the columns names to make our analysis easier."
   ]
  },
  {
   "cell_type": "markdown",
   "metadata": {},
   "source": [
    "Filter the Data\n",
    "---"
   ]
  },
  {
   "cell_type": "markdown",
   "metadata": {},
   "source": [
    "We will filter our dataframes for only resignations, and will assign the data for each survey to new dataframes."
   ]
  },
  {
   "cell_type": "code",
   "execution_count": 17,
   "metadata": {
    "collapsed": false
   },
   "outputs": [
    {
     "data": {
      "text/plain": [
       "Age Retirement                          285\n",
       "Resignation-Other reasons               150\n",
       "Resignation-Other employer               91\n",
       "Resignation-Move overseas/interstate     70\n",
       "Voluntary Early Retirement (VER)         67\n",
       "Ill Health Retirement                    61\n",
       "Other                                    49\n",
       "Contract Expired                         34\n",
       "Termination                              15\n",
       "Name: separationtype, dtype: int64"
      ]
     },
     "execution_count": 17,
     "metadata": {},
     "output_type": "execute_result"
    }
   ],
   "source": [
    "dete_survey_updated[\"separationtype\"].value_counts()"
   ]
  },
  {
   "cell_type": "code",
   "execution_count": 18,
   "metadata": {
    "collapsed": false
   },
   "outputs": [
    {
     "data": {
      "text/plain": [
       "Resignation                 340\n",
       "Contract Expired            127\n",
       "Retrenchment/ Redundancy    104\n",
       "Retirement                   82\n",
       "Transfer                     25\n",
       "Termination                  23\n",
       "Name: separationtype, dtype: int64"
      ]
     },
     "execution_count": 18,
     "metadata": {},
     "output_type": "execute_result"
    }
   ],
   "source": [
    "tafe_survey_updated[\"separationtype\"].value_counts()"
   ]
  },
  {
   "cell_type": "code",
   "execution_count": 19,
   "metadata": {
    "collapsed": false
   },
   "outputs": [
    {
     "data": {
      "text/plain": [
       "Resignation                         311\n",
       "Age Retirement                      285\n",
       "Voluntary Early Retirement (VER)     67\n",
       "Ill Health Retirement                61\n",
       "Other                                49\n",
       "Contract Expired                     34\n",
       "Termination                          15\n",
       "Name: separationtype, dtype: int64"
      ]
     },
     "execution_count": 19,
     "metadata": {},
     "output_type": "execute_result"
    }
   ],
   "source": [
    "dete_survey_updated[\"separationtype\"] = dete_survey_updated[\"separationtype\"].str.split(\"-\").str[0]\n",
    "dete_survey_updated[\"separationtype\"].value_counts()"
   ]
  },
  {
   "cell_type": "code",
   "execution_count": 20,
   "metadata": {
    "collapsed": true
   },
   "outputs": [],
   "source": [
    "dete_resignations = dete_survey_updated[dete_survey_updated[\"separationtype\"]==\"Resignation\"].copy()\n",
    "tafe_resignations = tafe_survey_updated[tafe_survey_updated[\"separationtype\"]==\"Resignation\"].copy()"
   ]
  },
  {
   "cell_type": "markdown",
   "metadata": {},
   "source": [
    "Verify the Data\n",
    "---"
   ]
  },
  {
   "cell_type": "markdown",
   "metadata": {},
   "source": [
    "Next, we will work with date columns."
   ]
  },
  {
   "cell_type": "code",
   "execution_count": 21,
   "metadata": {
    "collapsed": false
   },
   "outputs": [
    {
     "data": {
      "text/plain": [
       "2012       126\n",
       "2013        74\n",
       "01/2014     22\n",
       "12/2013     17\n",
       "06/2013     14\n",
       "09/2013     11\n",
       "07/2013      9\n",
       "11/2013      9\n",
       "10/2013      6\n",
       "08/2013      4\n",
       "05/2012      2\n",
       "05/2013      2\n",
       "07/2012      1\n",
       "2010         1\n",
       "07/2006      1\n",
       "09/2010      1\n",
       "Name: cease_date, dtype: int64"
      ]
     },
     "execution_count": 21,
     "metadata": {},
     "output_type": "execute_result"
    }
   ],
   "source": [
    "dete_resignations[\"cease_date\"].value_counts()"
   ]
  },
  {
   "cell_type": "code",
   "execution_count": 22,
   "metadata": {
    "collapsed": false
   },
   "outputs": [
    {
     "data": {
      "text/plain": [
       "11"
      ]
     },
     "execution_count": 22,
     "metadata": {},
     "output_type": "execute_result"
    }
   ],
   "source": [
    "dete_resignations[\"cease_date\"].isnull().sum()"
   ]
  },
  {
   "cell_type": "code",
   "execution_count": 23,
   "metadata": {
    "collapsed": false
   },
   "outputs": [],
   "source": [
    "dete_resignations[\"cease_date\"] = dete_resignations[\"cease_date\"].str.split(\"/\").str[-1]\n",
    "dete_resignations[\"cease_date\"] = dete_resignations[\"cease_date\"].astype(\"float\")"
   ]
  },
  {
   "cell_type": "code",
   "execution_count": 24,
   "metadata": {
    "collapsed": false
   },
   "outputs": [
    {
     "data": {
      "text/plain": [
       "2013.0    146\n",
       "2012.0    129\n",
       "2014.0     22\n",
       "2010.0      2\n",
       "2006.0      1\n",
       "Name: cease_date, dtype: int64"
      ]
     },
     "execution_count": 24,
     "metadata": {},
     "output_type": "execute_result"
    }
   ],
   "source": [
    "dete_resignations[\"cease_date\"].value_counts()"
   ]
  },
  {
   "cell_type": "code",
   "execution_count": 25,
   "metadata": {
    "collapsed": false
   },
   "outputs": [
    {
     "data": {
      "text/plain": [
       "1963.0     1\n",
       "1971.0     1\n",
       "1972.0     1\n",
       "1973.0     1\n",
       "1974.0     2\n",
       "1975.0     1\n",
       "1976.0     2\n",
       "1977.0     1\n",
       "1980.0     5\n",
       "1982.0     1\n",
       "1983.0     2\n",
       "1984.0     1\n",
       "1985.0     3\n",
       "1986.0     3\n",
       "1987.0     1\n",
       "1988.0     4\n",
       "1989.0     4\n",
       "1990.0     5\n",
       "1991.0     4\n",
       "1992.0     6\n",
       "1993.0     5\n",
       "1994.0     6\n",
       "1995.0     4\n",
       "1996.0     6\n",
       "1997.0     5\n",
       "1998.0     6\n",
       "1999.0     8\n",
       "2000.0     9\n",
       "2001.0     3\n",
       "2002.0     6\n",
       "2003.0     6\n",
       "2004.0    14\n",
       "2005.0    15\n",
       "2006.0    13\n",
       "2007.0    21\n",
       "2008.0    22\n",
       "2009.0    13\n",
       "2010.0    17\n",
       "2011.0    24\n",
       "2012.0    21\n",
       "2013.0    10\n",
       "Name: dete_start_date, dtype: int64"
      ]
     },
     "execution_count": 25,
     "metadata": {},
     "output_type": "execute_result"
    }
   ],
   "source": [
    "dete_resignations[\"dete_start_date\"].value_counts().sort_index()"
   ]
  },
  {
   "cell_type": "code",
   "execution_count": 26,
   "metadata": {
    "collapsed": false
   },
   "outputs": [
    {
     "data": {
      "text/plain": [
       "2011.0    116\n",
       "2012.0     94\n",
       "2010.0     68\n",
       "2013.0     55\n",
       "2009.0      2\n",
       "Name: cease_date, dtype: int64"
      ]
     },
     "execution_count": 26,
     "metadata": {},
     "output_type": "execute_result"
    }
   ],
   "source": [
    "tafe_resignations[\"cease_date\"].value_counts()"
   ]
  },
  {
   "cell_type": "markdown",
   "metadata": {},
   "source": [
    "Above, we observed the the years that employees started and finished their jobs. We found out that the years don't align with each other. We aren't concerned with analyzing the results by year, therefore we'll leave them as is."
   ]
  },
  {
   "cell_type": "markdown",
   "metadata": {},
   "source": [
    "Create a New Column\n",
    "---"
   ]
  },
  {
   "cell_type": "code",
   "execution_count": 27,
   "metadata": {
    "collapsed": true
   },
   "outputs": [],
   "source": [
    "dete_resignations[\"institute_service\"] = dete_resignations[\"cease_date\"] - dete_resignations[\"dete_start_date\"]"
   ]
  },
  {
   "cell_type": "markdown",
   "metadata": {},
   "source": [
    "We want to explore the employees' years of service.\n",
    "To observe this, we created a new column in dete_resignations dataframe called institute_service.\n",
    "\n",
    "We calculated the years of service in the dete_survey_updated dataframe by subtracting the dete_start_date from the cease_date."
   ]
  },
  {
   "cell_type": "markdown",
   "metadata": {},
   "source": [
    "Identify Dissatisfied Employees\n",
    "---"
   ]
  },
  {
   "cell_type": "markdown",
   "metadata": {},
   "source": [
    "Next, we will identify the employees by their dissatisfactions. We will classifiy them as \"dissatisfied\" if they resigned due to any of the reasons listed below:\n",
    "\n",
    "1. tafe_survey_updated:\n",
    " * Contributing Factors. Dissatisfaction\n",
    " * Contributing Factors. Job Dissatisfaction\n",
    "2. dafe_survey_updated:\n",
    " * job_dissatisfaction\n",
    " * dissatisfaction_with_the_department\n",
    " * physical_work_environment\n",
    " * lack_of_recognition\n",
    " * lack_of_job_security\n",
    " * work_location\n",
    " * employment_conditions\n",
    " * work_life_balance\n",
    " * workload"
   ]
  },
  {
   "cell_type": "code",
   "execution_count": 28,
   "metadata": {
    "collapsed": false
   },
   "outputs": [
    {
     "data": {
      "text/plain": [
       "-                                         277\n",
       "Contributing Factors. Dissatisfaction      55\n",
       "Name: Contributing Factors. Dissatisfaction, dtype: int64"
      ]
     },
     "execution_count": 28,
     "metadata": {},
     "output_type": "execute_result"
    }
   ],
   "source": [
    "tafe_resignations['Contributing Factors. Dissatisfaction'].value_counts()"
   ]
  },
  {
   "cell_type": "code",
   "execution_count": 29,
   "metadata": {
    "collapsed": false
   },
   "outputs": [
    {
     "data": {
      "text/plain": [
       "-                      270\n",
       "Job Dissatisfaction     62\n",
       "Name: Contributing Factors. Job Dissatisfaction, dtype: int64"
      ]
     },
     "execution_count": 29,
     "metadata": {},
     "output_type": "execute_result"
    }
   ],
   "source": [
    "tafe_resignations['Contributing Factors. Job Dissatisfaction'].value_counts()"
   ]
  },
  {
   "cell_type": "code",
   "execution_count": 30,
   "metadata": {
    "collapsed": true
   },
   "outputs": [],
   "source": [
    "#function to classify dissatisfied employees\n",
    "def update_vals(x):\n",
    "    if x == '-':\n",
    "        return False\n",
    "    elif pd.isnull(x):\n",
    "        return np.nan\n",
    "    else:\n",
    "        return True"
   ]
  },
  {
   "cell_type": "code",
   "execution_count": 31,
   "metadata": {
    "collapsed": true
   },
   "outputs": [],
   "source": [
    "tafe_resignations['dissatisfied'] = tafe_resignations[['Contributing Factors. Dissatisfaction', 'Contributing Factors. Job Dissatisfaction']].applymap(update_vals).any(1, skipna=False)"
   ]
  },
  {
   "cell_type": "code",
   "execution_count": 32,
   "metadata": {
    "collapsed": true
   },
   "outputs": [],
   "source": [
    "tafe_resignations_up = tafe_resignations.copy()"
   ]
  },
  {
   "cell_type": "code",
   "execution_count": 33,
   "metadata": {
    "collapsed": false
   },
   "outputs": [
    {
     "data": {
      "text/plain": [
       "False    241\n",
       "True      91\n",
       "NaN        8\n",
       "Name: dissatisfied, dtype: int64"
      ]
     },
     "execution_count": 33,
     "metadata": {},
     "output_type": "execute_result"
    }
   ],
   "source": [
    "tafe_resignations_up[\"dissatisfied\"].value_counts(dropna=False)"
   ]
  },
  {
   "cell_type": "code",
   "execution_count": 34,
   "metadata": {
    "collapsed": true
   },
   "outputs": [],
   "source": [
    "dete_resignations[\"dissatisfied\"] = dete_resignations[[\"job_dissatisfaction\",\n",
    "\"dissatisfaction_with_the_department\",\n",
    "\"physical_work_environment\",\n",
    "\"lack_of_recognition\",\n",
    "\"lack_of_job_security\",\n",
    "\"work_location\",\n",
    "\"employment_conditions\",\n",
    "\"work_life_balance\",\n",
    "\"workload\"]].any(1, skipna=False)\n",
    "dete_resignations_up = dete_resignations.copy()"
   ]
  },
  {
   "cell_type": "code",
   "execution_count": 35,
   "metadata": {
    "collapsed": false
   },
   "outputs": [
    {
     "data": {
      "text/plain": [
       "False    162\n",
       "True     149\n",
       "Name: dissatisfied, dtype: int64"
      ]
     },
     "execution_count": 35,
     "metadata": {},
     "output_type": "execute_result"
    }
   ],
   "source": [
    "dete_resignations_up[\"dissatisfied\"].value_counts(dropna=False)"
   ]
  },
  {
   "cell_type": "markdown",
   "metadata": {},
   "source": [
    "Above, we identified the number of employees that were dissatisfied for any reason both in dete and tafe surveys. If the value is True, then the employee is classified as dissatisfied."
   ]
  },
  {
   "cell_type": "markdown",
   "metadata": {},
   "source": [
    "Combine the Data\n",
    "---"
   ]
  },
  {
   "cell_type": "markdown",
   "metadata": {},
   "source": [
    "Next, we will combine both surveys in one dataframe."
   ]
  },
  {
   "cell_type": "code",
   "execution_count": 36,
   "metadata": {
    "collapsed": true
   },
   "outputs": [],
   "source": [
    "dete_resignations_up[\"institute\"] = \"DETE\""
   ]
  },
  {
   "cell_type": "code",
   "execution_count": 37,
   "metadata": {
    "collapsed": true
   },
   "outputs": [],
   "source": [
    "tafe_resignations_up[\"institute\"] = \"TAFE\""
   ]
  },
  {
   "cell_type": "code",
   "execution_count": 38,
   "metadata": {
    "collapsed": false
   },
   "outputs": [],
   "source": [
    "combined = pd.concat([dete_resignations_up,tafe_resignations_up], ignore_index=True)"
   ]
  },
  {
   "cell_type": "code",
   "execution_count": 39,
   "metadata": {
    "collapsed": false
   },
   "outputs": [
    {
     "data": {
      "text/plain": [
       "torres_strait                                            0\n",
       "south_sea                                                3\n",
       "aboriginal                                               7\n",
       "disability                                               8\n",
       "nesb                                                     9\n",
       "business_unit                                           32\n",
       "classification                                         161\n",
       "region                                                 265\n",
       "role_start_date                                        271\n",
       "dete_start_date                                        283\n",
       "role_service                                           290\n",
       "career_move_to_public_sector                           311\n",
       "employment_conditions                                  311\n",
       "work_location                                          311\n",
       "lack_of_job_security                                   311\n",
       "job_dissatisfaction                                    311\n",
       "dissatisfaction_with_the_department                    311\n",
       "workload                                               311\n",
       "lack_of_recognition                                    311\n",
       "interpersonal_conflicts                                311\n",
       "maternity/family                                       311\n",
       "none_of_the_above                                      311\n",
       "physical_work_environment                              311\n",
       "relocation                                             311\n",
       "study/travel                                           311\n",
       "traumatic_incident                                     311\n",
       "work_life_balance                                      311\n",
       "career_move_to_private_sector                          311\n",
       "ill_health                                             311\n",
       "Contributing Factors. Career Move - Private Sector     332\n",
       "Contributing Factors. Other                            332\n",
       "Contributing Factors. Career Move - Public Sector      332\n",
       "Contributing Factors. Career Move - Self-employment    332\n",
       "Contributing Factors. Travel                           332\n",
       "Contributing Factors. Study                            332\n",
       "Contributing Factors. Dissatisfaction                  332\n",
       "Contributing Factors. Ill Health                       332\n",
       "Contributing Factors. NONE                             332\n",
       "Contributing Factors. Maternity/Family                 332\n",
       "Contributing Factors. Job Dissatisfaction              332\n",
       "Contributing Factors. Interpersonal Conflict           332\n",
       "WorkArea                                               340\n",
       "Institute                                              340\n",
       "institute_service                                      563\n",
       "gender                                                 592\n",
       "age                                                    596\n",
       "employment_status                                      597\n",
       "position                                               598\n",
       "cease_date                                             635\n",
       "dissatisfied                                           643\n",
       "id                                                     651\n",
       "separationtype                                         651\n",
       "institute                                              651\n",
       "dtype: int64"
      ]
     },
     "execution_count": 39,
     "metadata": {},
     "output_type": "execute_result"
    }
   ],
   "source": [
    "combined.notnull().sum().sort_values()"
   ]
  },
  {
   "cell_type": "code",
   "execution_count": 40,
   "metadata": {
    "collapsed": true
   },
   "outputs": [],
   "source": [
    "combined_updated = combined.dropna(thresh=500, axis=1).copy()"
   ]
  },
  {
   "cell_type": "code",
   "execution_count": 41,
   "metadata": {
    "collapsed": false
   },
   "outputs": [
    {
     "data": {
      "text/plain": [
       "institute_service    563\n",
       "gender               592\n",
       "age                  596\n",
       "employment_status    597\n",
       "position             598\n",
       "cease_date           635\n",
       "dissatisfied         643\n",
       "id                   651\n",
       "institute            651\n",
       "separationtype       651\n",
       "dtype: int64"
      ]
     },
     "execution_count": 41,
     "metadata": {},
     "output_type": "execute_result"
    }
   ],
   "source": [
    "combined_updated.notnull().sum().sort_values()"
   ]
  },
  {
   "cell_type": "markdown",
   "metadata": {},
   "source": [
    "Above, we dropped the null values that we don't need for our analysis. We dropped the columns with less than 500 non null values."
   ]
  },
  {
   "cell_type": "markdown",
   "metadata": {},
   "source": [
    "Clean the Service Column\n",
    "---"
   ]
  },
  {
   "cell_type": "markdown",
   "metadata": {},
   "source": [
    "Next, we'll clean the institute_service column and categorize employees according to the following definitions:\n",
    "\n",
    "* New: Less than 3 years in the workplace\n",
    "* Experienced: 3-6 years in the workplace\n",
    "* Established: 7-10 years in the workplace\n",
    "* Veteran: 11 or more years in the workplace"
   ]
  },
  {
   "cell_type": "code",
   "execution_count": 42,
   "metadata": {
    "collapsed": false
   },
   "outputs": [
    {
     "data": {
      "text/plain": [
       "NaN                   88\n",
       "Less than 1 year      73\n",
       "1-2                   64\n",
       "3-4                   63\n",
       "5-6                   33\n",
       "11-20                 26\n",
       "5.0                   23\n",
       "1.0                   22\n",
       "7-10                  21\n",
       "0.0                   20\n",
       "3.0                   20\n",
       "6.0                   17\n",
       "4.0                   16\n",
       "2.0                   14\n",
       "9.0                   14\n",
       "7.0                   13\n",
       "More than 20 years    10\n",
       "8.0                    8\n",
       "13.0                   8\n",
       "15.0                   7\n",
       "20.0                   7\n",
       "10.0                   6\n",
       "12.0                   6\n",
       "14.0                   6\n",
       "22.0                   6\n",
       "17.0                   6\n",
       "18.0                   5\n",
       "16.0                   5\n",
       "11.0                   4\n",
       "23.0                   4\n",
       "24.0                   4\n",
       "19.0                   3\n",
       "32.0                   3\n",
       "21.0                   3\n",
       "39.0                   3\n",
       "30.0                   2\n",
       "25.0                   2\n",
       "26.0                   2\n",
       "28.0                   2\n",
       "36.0                   2\n",
       "38.0                   1\n",
       "49.0                   1\n",
       "42.0                   1\n",
       "41.0                   1\n",
       "29.0                   1\n",
       "35.0                   1\n",
       "34.0                   1\n",
       "33.0                   1\n",
       "27.0                   1\n",
       "31.0                   1\n",
       "Name: institute_service, dtype: int64"
      ]
     },
     "execution_count": 42,
     "metadata": {},
     "output_type": "execute_result"
    }
   ],
   "source": [
    "combined_updated[\"institute_service\"].value_counts(dropna=False)"
   ]
  },
  {
   "cell_type": "code",
   "execution_count": 43,
   "metadata": {
    "collapsed": false
   },
   "outputs": [
    {
     "name": "stderr",
     "output_type": "stream",
     "text": [
      "/dataquest/system/env/python3/lib/python3.4/site-packages/ipykernel/__main__.py:3: FutureWarning: currently extract(expand=None) means expand=False (return Index/Series/DataFrame) but in a future version of pandas this will be changed to expand=True (return DataFrame)\n",
      "  app.launch_new_instance()\n"
     ]
    }
   ],
   "source": [
    "combined_updated[\"institute_service_up\"] = (combined_updated[\"institute_service\"]\n",
    "                                            .astype(\"str\")\n",
    "                                            .str.extract(r\"(\\d+)\")\n",
    "                                            .astype(\"float\"))"
   ]
  },
  {
   "cell_type": "code",
   "execution_count": 44,
   "metadata": {
    "collapsed": false
   },
   "outputs": [
    {
     "data": {
      "text/plain": [
       " 0.0      20\n",
       " 1.0     159\n",
       " 2.0      14\n",
       " 3.0      83\n",
       " 4.0      16\n",
       " 5.0      56\n",
       " 6.0      17\n",
       " 7.0      34\n",
       " 8.0       8\n",
       " 9.0      14\n",
       " 10.0      6\n",
       " 11.0     30\n",
       " 12.0      6\n",
       " 13.0      8\n",
       " 14.0      6\n",
       " 15.0      7\n",
       " 16.0      5\n",
       " 17.0      6\n",
       " 18.0      5\n",
       " 19.0      3\n",
       " 20.0     17\n",
       " 21.0      3\n",
       " 22.0      6\n",
       " 23.0      4\n",
       " 24.0      4\n",
       " 25.0      2\n",
       " 26.0      2\n",
       " 27.0      1\n",
       " 28.0      2\n",
       " 29.0      1\n",
       " 30.0      2\n",
       " 31.0      1\n",
       " 32.0      3\n",
       " 33.0      1\n",
       " 34.0      1\n",
       " 35.0      1\n",
       " 36.0      2\n",
       " 38.0      1\n",
       " 39.0      3\n",
       " 41.0      1\n",
       " 42.0      1\n",
       " 49.0      1\n",
       "NaN       88\n",
       "Name: institute_service_up, dtype: int64"
      ]
     },
     "execution_count": 44,
     "metadata": {},
     "output_type": "execute_result"
    }
   ],
   "source": [
    "combined_updated[\"institute_service_up\"].value_counts(dropna=False).sort_index()"
   ]
  },
  {
   "cell_type": "markdown",
   "metadata": {},
   "source": [
    "Next, we will create a function to define the career stages as we explained before."
   ]
  },
  {
   "cell_type": "code",
   "execution_count": 45,
   "metadata": {
    "collapsed": true
   },
   "outputs": [],
   "source": [
    "#function to convert years of service to categories\n",
    "def career(x):\n",
    "    if x >= 11:\n",
    "        return \"Veteran\"\n",
    "    elif 7 <= x <11:\n",
    "        return \"Established\"\n",
    "    elif 3 <= x <7:\n",
    "        return \"Experienced\"\n",
    "    elif pd.isnull(x):\n",
    "        return np.nan\n",
    "    else:\n",
    "        return \"New\""
   ]
  },
  {
   "cell_type": "code",
   "execution_count": 46,
   "metadata": {
    "collapsed": false
   },
   "outputs": [],
   "source": [
    "combined_updated[\"service_cat\"] = combined_updated[\"institute_service_up\"].apply(career)"
   ]
  },
  {
   "cell_type": "code",
   "execution_count": 47,
   "metadata": {
    "collapsed": false
   },
   "outputs": [
    {
     "data": {
      "text/plain": [
       "New            193\n",
       "Experienced    172\n",
       "Veteran        136\n",
       "Established     62\n",
       "Name: service_cat, dtype: int64"
      ]
     },
     "execution_count": 47,
     "metadata": {},
     "output_type": "execute_result"
    }
   ],
   "source": [
    "combined_updated[\"service_cat\"].value_counts()"
   ]
  },
  {
   "cell_type": "markdown",
   "metadata": {},
   "source": [
    "Perform Initial Analysis\n",
    "---"
   ]
  },
  {
   "cell_type": "code",
   "execution_count": 48,
   "metadata": {
    "collapsed": false
   },
   "outputs": [
    {
     "data": {
      "text/plain": [
       "False    403\n",
       "True     240\n",
       "NaN        8\n",
       "Name: dissatisfied, dtype: int64"
      ]
     },
     "execution_count": 48,
     "metadata": {},
     "output_type": "execute_result"
    }
   ],
   "source": [
    "combined_updated[\"dissatisfied\"].value_counts(dropna=False)"
   ]
  },
  {
   "cell_type": "code",
   "execution_count": 49,
   "metadata": {
    "collapsed": true
   },
   "outputs": [],
   "source": [
    "combined_updated[\"dissatisfied\"] = combined_updated[\"dissatisfied\"].fillna(False)"
   ]
  },
  {
   "cell_type": "code",
   "execution_count": 50,
   "metadata": {
    "collapsed": false
   },
   "outputs": [],
   "source": [
    "dis_pivot = combined_updated.pivot_table(index=\"service_cat\", values=\"dissatisfied\")"
   ]
  },
  {
   "cell_type": "code",
   "execution_count": 51,
   "metadata": {
    "collapsed": true
   },
   "outputs": [],
   "source": [
    "%matplotlib inline"
   ]
  },
  {
   "cell_type": "code",
   "execution_count": 52,
   "metadata": {
    "collapsed": false
   },
   "outputs": [
    {
     "data": {
      "image/png": "[encoded data removed]",
      "text/plain": [
       "<matplotlib.figure.Figure at 0x7fea11d23b00>"
      ]
     },
     "metadata": {},
     "output_type": "display_data"
    }
   ],
   "source": [
    "dis_pivot.plot(kind=\"bar\", rot=0);"
   ]
  },
  {
   "cell_type": "markdown",
   "metadata": {},
   "source": [
    "In the above bar plot, we can see that that the employees with 7 or more years of service are more likely to resign due to some kind of dissatisfaction with the job than employees with less than 7 years of service."
   ]
  },
  {
   "cell_type": "markdown",
   "metadata": {},
   "source": [
    "Resignation Analysis Based On Ages\n",
    "---"
   ]
  },
  {
   "cell_type": "markdown",
   "metadata": {},
   "source": [
    "Next, we will analyze resignations due to dissatisfaction based on ages."
   ]
  },
  {
   "cell_type": "code",
   "execution_count": 53,
   "metadata": {
    "collapsed": false,
    "scrolled": true
   },
   "outputs": [
    {
     "data": {
      "text/html": [
       "<div>\n",
       "<style scoped>\n",
       "    .dataframe tbody tr th:only-of-type {\n",
       "        vertical-align: middle;\n",
       "    }\n",
       "\n",
       "    .dataframe tbody tr th {\n",
       "        vertical-align: top;\n",
       "    }\n",
       "\n",
       "    .dataframe thead th {\n",
       "        text-align: right;\n",
       "    }\n",
       "</style>\n",
       "<table border=\"1\" class=\"dataframe\">\n",
       "  <thead>\n",
       "    <tr style=\"text-align: right;\">\n",
       "      <th></th>\n",
       "      <th>age</th>\n",
       "      <th>cease_date</th>\n",
       "      <th>dissatisfied</th>\n",
       "      <th>employment_status</th>\n",
       "      <th>gender</th>\n",
       "      <th>id</th>\n",
       "      <th>institute</th>\n",
       "      <th>institute_service</th>\n",
       "      <th>position</th>\n",
       "      <th>separationtype</th>\n",
       "      <th>institute_service_up</th>\n",
       "      <th>service_cat</th>\n",
       "    </tr>\n",
       "  </thead>\n",
       "  <tbody>\n",
       "    <tr>\n",
       "      <th>0</th>\n",
       "      <td>36-40</td>\n",
       "      <td>2012.0</td>\n",
       "      <td>False</td>\n",
       "      <td>Permanent Full-time</td>\n",
       "      <td>Female</td>\n",
       "      <td>4.000000e+00</td>\n",
       "      <td>DETE</td>\n",
       "      <td>7</td>\n",
       "      <td>Teacher</td>\n",
       "      <td>Resignation</td>\n",
       "      <td>7.0</td>\n",
       "      <td>Established</td>\n",
       "    </tr>\n",
       "    <tr>\n",
       "      <th>1</th>\n",
       "      <td>41-45</td>\n",
       "      <td>2012.0</td>\n",
       "      <td>True</td>\n",
       "      <td>Permanent Full-time</td>\n",
       "      <td>Female</td>\n",
       "      <td>6.000000e+00</td>\n",
       "      <td>DETE</td>\n",
       "      <td>18</td>\n",
       "      <td>Guidance Officer</td>\n",
       "      <td>Resignation</td>\n",
       "      <td>18.0</td>\n",
       "      <td>Veteran</td>\n",
       "    </tr>\n",
       "    <tr>\n",
       "      <th>2</th>\n",
       "      <td>31-35</td>\n",
       "      <td>2012.0</td>\n",
       "      <td>False</td>\n",
       "      <td>Permanent Full-time</td>\n",
       "      <td>Female</td>\n",
       "      <td>9.000000e+00</td>\n",
       "      <td>DETE</td>\n",
       "      <td>3</td>\n",
       "      <td>Teacher</td>\n",
       "      <td>Resignation</td>\n",
       "      <td>3.0</td>\n",
       "      <td>Experienced</td>\n",
       "    </tr>\n",
       "    <tr>\n",
       "      <th>3</th>\n",
       "      <td>46-50</td>\n",
       "      <td>2012.0</td>\n",
       "      <td>True</td>\n",
       "      <td>Permanent Part-time</td>\n",
       "      <td>Female</td>\n",
       "      <td>1.000000e+01</td>\n",
       "      <td>DETE</td>\n",
       "      <td>15</td>\n",
       "      <td>Teacher Aide</td>\n",
       "      <td>Resignation</td>\n",
       "      <td>15.0</td>\n",
       "      <td>Veteran</td>\n",
       "    </tr>\n",
       "    <tr>\n",
       "      <th>4</th>\n",
       "      <td>31-35</td>\n",
       "      <td>2012.0</td>\n",
       "      <td>False</td>\n",
       "      <td>Permanent Full-time</td>\n",
       "      <td>Male</td>\n",
       "      <td>1.200000e+01</td>\n",
       "      <td>DETE</td>\n",
       "      <td>3</td>\n",
       "      <td>Teacher</td>\n",
       "      <td>Resignation</td>\n",
       "      <td>3.0</td>\n",
       "      <td>Experienced</td>\n",
       "    </tr>\n",
       "    <tr>\n",
       "      <th>5</th>\n",
       "      <td>36-40</td>\n",
       "      <td>2012.0</td>\n",
       "      <td>False</td>\n",
       "      <td>Permanent Full-time</td>\n",
       "      <td>Female</td>\n",
       "      <td>1.300000e+01</td>\n",
       "      <td>DETE</td>\n",
       "      <td>14</td>\n",
       "      <td>Teacher</td>\n",
       "      <td>Resignation</td>\n",
       "      <td>14.0</td>\n",
       "      <td>Veteran</td>\n",
       "    </tr>\n",
       "    <tr>\n",
       "      <th>6</th>\n",
       "      <td>31-35</td>\n",
       "      <td>2012.0</td>\n",
       "      <td>True</td>\n",
       "      <td>Permanent Full-time</td>\n",
       "      <td>Male</td>\n",
       "      <td>1.500000e+01</td>\n",
       "      <td>DETE</td>\n",
       "      <td>5</td>\n",
       "      <td>Teacher</td>\n",
       "      <td>Resignation</td>\n",
       "      <td>5.0</td>\n",
       "      <td>Experienced</td>\n",
       "    </tr>\n",
       "    <tr>\n",
       "      <th>7</th>\n",
       "      <td>61 or older</td>\n",
       "      <td>2012.0</td>\n",
       "      <td>True</td>\n",
       "      <td>Permanent Part-time</td>\n",
       "      <td>Male</td>\n",
       "      <td>1.700000e+01</td>\n",
       "      <td>DETE</td>\n",
       "      <td>NaN</td>\n",
       "      <td>Teacher Aide</td>\n",
       "      <td>Resignation</td>\n",
       "      <td>NaN</td>\n",
       "      <td>NaN</td>\n",
       "    </tr>\n",
       "    <tr>\n",
       "      <th>8</th>\n",
       "      <td>56-60</td>\n",
       "      <td>2012.0</td>\n",
       "      <td>False</td>\n",
       "      <td>Permanent Full-time</td>\n",
       "      <td>Male</td>\n",
       "      <td>2.100000e+01</td>\n",
       "      <td>DETE</td>\n",
       "      <td>30</td>\n",
       "      <td>Teacher</td>\n",
       "      <td>Resignation</td>\n",
       "      <td>30.0</td>\n",
       "      <td>Veteran</td>\n",
       "    </tr>\n",
       "    <tr>\n",
       "      <th>9</th>\n",
       "      <td>51-55</td>\n",
       "      <td>2012.0</td>\n",
       "      <td>False</td>\n",
       "      <td>Permanent Part-time</td>\n",
       "      <td>Female</td>\n",
       "      <td>2.200000e+01</td>\n",
       "      <td>DETE</td>\n",
       "      <td>32</td>\n",
       "      <td>Cleaner</td>\n",
       "      <td>Resignation</td>\n",
       "      <td>32.0</td>\n",
       "      <td>Veteran</td>\n",
       "    </tr>\n",
       "    <tr>\n",
       "      <th>10</th>\n",
       "      <td>46-50</td>\n",
       "      <td>2012.0</td>\n",
       "      <td>True</td>\n",
       "      <td>Permanent Part-time</td>\n",
       "      <td>Female</td>\n",
       "      <td>2.300000e+01</td>\n",
       "      <td>DETE</td>\n",
       "      <td>15</td>\n",
       "      <td>School Administrative Staff</td>\n",
       "      <td>Resignation</td>\n",
       "      <td>15.0</td>\n",
       "      <td>Veteran</td>\n",
       "    </tr>\n",
       "    <tr>\n",
       "      <th>11</th>\n",
       "      <td>61 or older</td>\n",
       "      <td>2012.0</td>\n",
       "      <td>True</td>\n",
       "      <td>Permanent Full-time</td>\n",
       "      <td>Female</td>\n",
       "      <td>2.400000e+01</td>\n",
       "      <td>DETE</td>\n",
       "      <td>39</td>\n",
       "      <td>Teacher</td>\n",
       "      <td>Resignation</td>\n",
       "      <td>39.0</td>\n",
       "      <td>Veteran</td>\n",
       "    </tr>\n",
       "    <tr>\n",
       "      <th>12</th>\n",
       "      <td>41-45</td>\n",
       "      <td>2012.0</td>\n",
       "      <td>True</td>\n",
       "      <td>Permanent Part-time</td>\n",
       "      <td>Female</td>\n",
       "      <td>2.600000e+01</td>\n",
       "      <td>DETE</td>\n",
       "      <td>17</td>\n",
       "      <td>Teacher</td>\n",
       "      <td>Resignation</td>\n",
       "      <td>17.0</td>\n",
       "      <td>Veteran</td>\n",
       "    </tr>\n",
       "    <tr>\n",
       "      <th>13</th>\n",
       "      <td>21-25</td>\n",
       "      <td>2012.0</td>\n",
       "      <td>False</td>\n",
       "      <td>Permanent Full-time</td>\n",
       "      <td>Female</td>\n",
       "      <td>2.800000e+01</td>\n",
       "      <td>DETE</td>\n",
       "      <td>7</td>\n",
       "      <td>Public Servant</td>\n",
       "      <td>Resignation</td>\n",
       "      <td>7.0</td>\n",
       "      <td>Established</td>\n",
       "    </tr>\n",
       "    <tr>\n",
       "      <th>14</th>\n",
       "      <td>36-40</td>\n",
       "      <td>2012.0</td>\n",
       "      <td>True</td>\n",
       "      <td>Permanent Full-time</td>\n",
       "      <td>Male</td>\n",
       "      <td>3.400000e+01</td>\n",
       "      <td>DETE</td>\n",
       "      <td>9</td>\n",
       "      <td>Teacher</td>\n",
       "      <td>Resignation</td>\n",
       "      <td>9.0</td>\n",
       "      <td>Established</td>\n",
       "    </tr>\n",
       "    <tr>\n",
       "      <th>15</th>\n",
       "      <td>61 or older</td>\n",
       "      <td>2012.0</td>\n",
       "      <td>True</td>\n",
       "      <td>Permanent Part-time</td>\n",
       "      <td>Male</td>\n",
       "      <td>3.500000e+01</td>\n",
       "      <td>DETE</td>\n",
       "      <td>6</td>\n",
       "      <td>Cleaner</td>\n",
       "      <td>Resignation</td>\n",
       "      <td>6.0</td>\n",
       "      <td>Experienced</td>\n",
       "    </tr>\n",
       "    <tr>\n",
       "      <th>16</th>\n",
       "      <td>21-25</td>\n",
       "      <td>2012.0</td>\n",
       "      <td>False</td>\n",
       "      <td>Temporary Part-time</td>\n",
       "      <td>Female</td>\n",
       "      <td>3.800000e+01</td>\n",
       "      <td>DETE</td>\n",
       "      <td>1</td>\n",
       "      <td>Teacher Aide</td>\n",
       "      <td>Resignation</td>\n",
       "      <td>1.0</td>\n",
       "      <td>New</td>\n",
       "    </tr>\n",
       "    <tr>\n",
       "      <th>17</th>\n",
       "      <td>21-25</td>\n",
       "      <td>2012.0</td>\n",
       "      <td>True</td>\n",
       "      <td>Permanent Full-time</td>\n",
       "      <td>Female</td>\n",
       "      <td>4.000000e+01</td>\n",
       "      <td>DETE</td>\n",
       "      <td>NaN</td>\n",
       "      <td>Teacher</td>\n",
       "      <td>Resignation</td>\n",
       "      <td>NaN</td>\n",
       "      <td>NaN</td>\n",
       "    </tr>\n",
       "    <tr>\n",
       "      <th>18</th>\n",
       "      <td>56-60</td>\n",
       "      <td>2012.0</td>\n",
       "      <td>False</td>\n",
       "      <td>Permanent Full-time</td>\n",
       "      <td>Male</td>\n",
       "      <td>4.100000e+01</td>\n",
       "      <td>DETE</td>\n",
       "      <td>35</td>\n",
       "      <td>Teacher</td>\n",
       "      <td>Resignation</td>\n",
       "      <td>35.0</td>\n",
       "      <td>Veteran</td>\n",
       "    </tr>\n",
       "    <tr>\n",
       "      <th>19</th>\n",
       "      <td>51-55</td>\n",
       "      <td>2012.0</td>\n",
       "      <td>True</td>\n",
       "      <td>Permanent Full-time</td>\n",
       "      <td>Female</td>\n",
       "      <td>4.200000e+01</td>\n",
       "      <td>DETE</td>\n",
       "      <td>38</td>\n",
       "      <td>Head of Curriculum/Head of Special Education</td>\n",
       "      <td>Resignation</td>\n",
       "      <td>38.0</td>\n",
       "      <td>Veteran</td>\n",
       "    </tr>\n",
       "    <tr>\n",
       "      <th>20</th>\n",
       "      <td>41-45</td>\n",
       "      <td>2012.0</td>\n",
       "      <td>False</td>\n",
       "      <td>Permanent Part-time</td>\n",
       "      <td>Female</td>\n",
       "      <td>4.300000e+01</td>\n",
       "      <td>DETE</td>\n",
       "      <td>1</td>\n",
       "      <td>Cleaner</td>\n",
       "      <td>Resignation</td>\n",
       "      <td>1.0</td>\n",
       "      <td>New</td>\n",
       "    </tr>\n",
       "    <tr>\n",
       "      <th>21</th>\n",
       "      <td>51-55</td>\n",
       "      <td>2012.0</td>\n",
       "      <td>True</td>\n",
       "      <td>Permanent Full-time</td>\n",
       "      <td>Male</td>\n",
       "      <td>4.400000e+01</td>\n",
       "      <td>DETE</td>\n",
       "      <td>36</td>\n",
       "      <td>Teacher</td>\n",
       "      <td>Resignation</td>\n",
       "      <td>36.0</td>\n",
       "      <td>Veteran</td>\n",
       "    </tr>\n",
       "    <tr>\n",
       "      <th>22</th>\n",
       "      <td>21-25</td>\n",
       "      <td>2012.0</td>\n",
       "      <td>False</td>\n",
       "      <td>Permanent Full-time</td>\n",
       "      <td>Male</td>\n",
       "      <td>4.900000e+01</td>\n",
       "      <td>DETE</td>\n",
       "      <td>3</td>\n",
       "      <td>Cleaner</td>\n",
       "      <td>Resignation</td>\n",
       "      <td>3.0</td>\n",
       "      <td>Experienced</td>\n",
       "    </tr>\n",
       "    <tr>\n",
       "      <th>23</th>\n",
       "      <td>21-25</td>\n",
       "      <td>2012.0</td>\n",
       "      <td>False</td>\n",
       "      <td>Permanent Full-time</td>\n",
       "      <td>Male</td>\n",
       "      <td>5.100000e+01</td>\n",
       "      <td>DETE</td>\n",
       "      <td>3</td>\n",
       "      <td>Cleaner</td>\n",
       "      <td>Resignation</td>\n",
       "      <td>3.0</td>\n",
       "      <td>Experienced</td>\n",
       "    </tr>\n",
       "    <tr>\n",
       "      <th>24</th>\n",
       "      <td>61 or older</td>\n",
       "      <td>2012.0</td>\n",
       "      <td>False</td>\n",
       "      <td>Permanent Full-time</td>\n",
       "      <td>Female</td>\n",
       "      <td>5.200000e+01</td>\n",
       "      <td>DETE</td>\n",
       "      <td>19</td>\n",
       "      <td>Cleaner</td>\n",
       "      <td>Resignation</td>\n",
       "      <td>19.0</td>\n",
       "      <td>Veteran</td>\n",
       "    </tr>\n",
       "    <tr>\n",
       "      <th>25</th>\n",
       "      <td>26-30</td>\n",
       "      <td>2012.0</td>\n",
       "      <td>False</td>\n",
       "      <td>Permanent Part-time</td>\n",
       "      <td>Female</td>\n",
       "      <td>5.600000e+01</td>\n",
       "      <td>DETE</td>\n",
       "      <td>4</td>\n",
       "      <td>Teacher Aide</td>\n",
       "      <td>Resignation</td>\n",
       "      <td>4.0</td>\n",
       "      <td>Experienced</td>\n",
       "    </tr>\n",
       "    <tr>\n",
       "      <th>26</th>\n",
       "      <td>46-50</td>\n",
       "      <td>2012.0</td>\n",
       "      <td>False</td>\n",
       "      <td>Permanent Full-time</td>\n",
       "      <td>Male</td>\n",
       "      <td>5.800000e+01</td>\n",
       "      <td>DETE</td>\n",
       "      <td>9</td>\n",
       "      <td>Teacher</td>\n",
       "      <td>Resignation</td>\n",
       "      <td>9.0</td>\n",
       "      <td>Established</td>\n",
       "    </tr>\n",
       "    <tr>\n",
       "      <th>27</th>\n",
       "      <td>31-35</td>\n",
       "      <td>2012.0</td>\n",
       "      <td>False</td>\n",
       "      <td>Temporary Part-time</td>\n",
       "      <td>Female</td>\n",
       "      <td>6.200000e+01</td>\n",
       "      <td>DETE</td>\n",
       "      <td>1</td>\n",
       "      <td>Schools Officer</td>\n",
       "      <td>Resignation</td>\n",
       "      <td>1.0</td>\n",
       "      <td>New</td>\n",
       "    </tr>\n",
       "    <tr>\n",
       "      <th>28</th>\n",
       "      <td>36-40</td>\n",
       "      <td>2012.0</td>\n",
       "      <td>True</td>\n",
       "      <td>Permanent Full-time</td>\n",
       "      <td>Female</td>\n",
       "      <td>7.000000e+01</td>\n",
       "      <td>DETE</td>\n",
       "      <td>6</td>\n",
       "      <td>Public Servant</td>\n",
       "      <td>Resignation</td>\n",
       "      <td>6.0</td>\n",
       "      <td>Experienced</td>\n",
       "    </tr>\n",
       "    <tr>\n",
       "      <th>29</th>\n",
       "      <td>36-40</td>\n",
       "      <td>2012.0</td>\n",
       "      <td>False</td>\n",
       "      <td>Permanent Part-time</td>\n",
       "      <td>Female</td>\n",
       "      <td>7.200000e+01</td>\n",
       "      <td>DETE</td>\n",
       "      <td>1</td>\n",
       "      <td>Teacher Aide</td>\n",
       "      <td>Resignation</td>\n",
       "      <td>1.0</td>\n",
       "      <td>New</td>\n",
       "    </tr>\n",
       "    <tr>\n",
       "      <th>...</th>\n",
       "      <td>...</td>\n",
       "      <td>...</td>\n",
       "      <td>...</td>\n",
       "      <td>...</td>\n",
       "      <td>...</td>\n",
       "      <td>...</td>\n",
       "      <td>...</td>\n",
       "      <td>...</td>\n",
       "      <td>...</td>\n",
       "      <td>...</td>\n",
       "      <td>...</td>\n",
       "      <td>...</td>\n",
       "    </tr>\n",
       "    <tr>\n",
       "      <th>621</th>\n",
       "      <td>46  50</td>\n",
       "      <td>2013.0</td>\n",
       "      <td>False</td>\n",
       "      <td>Temporary Part-time</td>\n",
       "      <td>Female</td>\n",
       "      <td>6.349985e+17</td>\n",
       "      <td>TAFE</td>\n",
       "      <td>1-2</td>\n",
       "      <td>Administration (AO)</td>\n",
       "      <td>Resignation</td>\n",
       "      <td>1.0</td>\n",
       "      <td>New</td>\n",
       "    </tr>\n",
       "    <tr>\n",
       "      <th>622</th>\n",
       "      <td>41  45</td>\n",
       "      <td>2013.0</td>\n",
       "      <td>False</td>\n",
       "      <td>Permanent Part-time</td>\n",
       "      <td>Female</td>\n",
       "      <td>6.349994e+17</td>\n",
       "      <td>TAFE</td>\n",
       "      <td>3-4</td>\n",
       "      <td>Administration (AO)</td>\n",
       "      <td>Resignation</td>\n",
       "      <td>3.0</td>\n",
       "      <td>Experienced</td>\n",
       "    </tr>\n",
       "    <tr>\n",
       "      <th>623</th>\n",
       "      <td>46  50</td>\n",
       "      <td>2013.0</td>\n",
       "      <td>True</td>\n",
       "      <td>Permanent Full-time</td>\n",
       "      <td>Female</td>\n",
       "      <td>6.350003e+17</td>\n",
       "      <td>TAFE</td>\n",
       "      <td>5-6</td>\n",
       "      <td>Administration (AO)</td>\n",
       "      <td>Resignation</td>\n",
       "      <td>5.0</td>\n",
       "      <td>Experienced</td>\n",
       "    </tr>\n",
       "    <tr>\n",
       "      <th>624</th>\n",
       "      <td>NaN</td>\n",
       "      <td>2013.0</td>\n",
       "      <td>False</td>\n",
       "      <td>NaN</td>\n",
       "      <td>NaN</td>\n",
       "      <td>6.350055e+17</td>\n",
       "      <td>TAFE</td>\n",
       "      <td>NaN</td>\n",
       "      <td>NaN</td>\n",
       "      <td>Resignation</td>\n",
       "      <td>NaN</td>\n",
       "      <td>NaN</td>\n",
       "    </tr>\n",
       "    <tr>\n",
       "      <th>625</th>\n",
       "      <td>NaN</td>\n",
       "      <td>2013.0</td>\n",
       "      <td>False</td>\n",
       "      <td>NaN</td>\n",
       "      <td>NaN</td>\n",
       "      <td>6.350055e+17</td>\n",
       "      <td>TAFE</td>\n",
       "      <td>NaN</td>\n",
       "      <td>NaN</td>\n",
       "      <td>Resignation</td>\n",
       "      <td>NaN</td>\n",
       "      <td>NaN</td>\n",
       "    </tr>\n",
       "    <tr>\n",
       "      <th>626</th>\n",
       "      <td>26  30</td>\n",
       "      <td>2013.0</td>\n",
       "      <td>False</td>\n",
       "      <td>Temporary Full-time</td>\n",
       "      <td>Female</td>\n",
       "      <td>6.350108e+17</td>\n",
       "      <td>TAFE</td>\n",
       "      <td>3-4</td>\n",
       "      <td>Administration (AO)</td>\n",
       "      <td>Resignation</td>\n",
       "      <td>3.0</td>\n",
       "      <td>Experienced</td>\n",
       "    </tr>\n",
       "    <tr>\n",
       "      <th>627</th>\n",
       "      <td>NaN</td>\n",
       "      <td>2013.0</td>\n",
       "      <td>False</td>\n",
       "      <td>NaN</td>\n",
       "      <td>NaN</td>\n",
       "      <td>6.350124e+17</td>\n",
       "      <td>TAFE</td>\n",
       "      <td>NaN</td>\n",
       "      <td>NaN</td>\n",
       "      <td>Resignation</td>\n",
       "      <td>NaN</td>\n",
       "      <td>NaN</td>\n",
       "    </tr>\n",
       "    <tr>\n",
       "      <th>628</th>\n",
       "      <td>46  50</td>\n",
       "      <td>2013.0</td>\n",
       "      <td>True</td>\n",
       "      <td>Temporary Full-time</td>\n",
       "      <td>Female</td>\n",
       "      <td>6.350127e+17</td>\n",
       "      <td>TAFE</td>\n",
       "      <td>Less than 1 year</td>\n",
       "      <td>Teacher (including LVT)</td>\n",
       "      <td>Resignation</td>\n",
       "      <td>1.0</td>\n",
       "      <td>New</td>\n",
       "    </tr>\n",
       "    <tr>\n",
       "      <th>629</th>\n",
       "      <td>51-55</td>\n",
       "      <td>2013.0</td>\n",
       "      <td>True</td>\n",
       "      <td>Temporary Full-time</td>\n",
       "      <td>Male</td>\n",
       "      <td>6.350175e+17</td>\n",
       "      <td>TAFE</td>\n",
       "      <td>Less than 1 year</td>\n",
       "      <td>Teacher (including LVT)</td>\n",
       "      <td>Resignation</td>\n",
       "      <td>1.0</td>\n",
       "      <td>New</td>\n",
       "    </tr>\n",
       "    <tr>\n",
       "      <th>630</th>\n",
       "      <td>41  45</td>\n",
       "      <td>2013.0</td>\n",
       "      <td>False</td>\n",
       "      <td>Contract/casual</td>\n",
       "      <td>Female</td>\n",
       "      <td>6.350194e+17</td>\n",
       "      <td>TAFE</td>\n",
       "      <td>1-2</td>\n",
       "      <td>Administration (AO)</td>\n",
       "      <td>Resignation</td>\n",
       "      <td>1.0</td>\n",
       "      <td>New</td>\n",
       "    </tr>\n",
       "    <tr>\n",
       "      <th>631</th>\n",
       "      <td>36  40</td>\n",
       "      <td>2013.0</td>\n",
       "      <td>False</td>\n",
       "      <td>Temporary Full-time</td>\n",
       "      <td>Female</td>\n",
       "      <td>6.350219e+17</td>\n",
       "      <td>TAFE</td>\n",
       "      <td>Less than 1 year</td>\n",
       "      <td>Administration (AO)</td>\n",
       "      <td>Resignation</td>\n",
       "      <td>1.0</td>\n",
       "      <td>New</td>\n",
       "    </tr>\n",
       "    <tr>\n",
       "      <th>632</th>\n",
       "      <td>51-55</td>\n",
       "      <td>2013.0</td>\n",
       "      <td>False</td>\n",
       "      <td>Permanent Full-time</td>\n",
       "      <td>Male</td>\n",
       "      <td>6.350253e+17</td>\n",
       "      <td>TAFE</td>\n",
       "      <td>3-4</td>\n",
       "      <td>Administration (AO)</td>\n",
       "      <td>Resignation</td>\n",
       "      <td>3.0</td>\n",
       "      <td>Experienced</td>\n",
       "    </tr>\n",
       "    <tr>\n",
       "      <th>633</th>\n",
       "      <td>56 or older</td>\n",
       "      <td>2013.0</td>\n",
       "      <td>False</td>\n",
       "      <td>Temporary Part-time</td>\n",
       "      <td>Female</td>\n",
       "      <td>6.350279e+17</td>\n",
       "      <td>TAFE</td>\n",
       "      <td>1-2</td>\n",
       "      <td>Operational (OO)</td>\n",
       "      <td>Resignation</td>\n",
       "      <td>1.0</td>\n",
       "      <td>New</td>\n",
       "    </tr>\n",
       "    <tr>\n",
       "      <th>634</th>\n",
       "      <td>26  30</td>\n",
       "      <td>2013.0</td>\n",
       "      <td>False</td>\n",
       "      <td>Temporary Full-time</td>\n",
       "      <td>Female</td>\n",
       "      <td>6.350314e+17</td>\n",
       "      <td>TAFE</td>\n",
       "      <td>Less than 1 year</td>\n",
       "      <td>Administration (AO)</td>\n",
       "      <td>Resignation</td>\n",
       "      <td>1.0</td>\n",
       "      <td>New</td>\n",
       "    </tr>\n",
       "    <tr>\n",
       "      <th>635</th>\n",
       "      <td>26  30</td>\n",
       "      <td>2013.0</td>\n",
       "      <td>False</td>\n",
       "      <td>Permanent Part-time</td>\n",
       "      <td>Female</td>\n",
       "      <td>6.350357e+17</td>\n",
       "      <td>TAFE</td>\n",
       "      <td>Less than 1 year</td>\n",
       "      <td>Administration (AO)</td>\n",
       "      <td>Resignation</td>\n",
       "      <td>1.0</td>\n",
       "      <td>New</td>\n",
       "    </tr>\n",
       "    <tr>\n",
       "      <th>636</th>\n",
       "      <td>41  45</td>\n",
       "      <td>2013.0</td>\n",
       "      <td>False</td>\n",
       "      <td>Temporary Full-time</td>\n",
       "      <td>Female</td>\n",
       "      <td>6.350374e+17</td>\n",
       "      <td>TAFE</td>\n",
       "      <td>Less than 1 year</td>\n",
       "      <td>Administration (AO)</td>\n",
       "      <td>Resignation</td>\n",
       "      <td>1.0</td>\n",
       "      <td>New</td>\n",
       "    </tr>\n",
       "    <tr>\n",
       "      <th>637</th>\n",
       "      <td>41  45</td>\n",
       "      <td>2013.0</td>\n",
       "      <td>False</td>\n",
       "      <td>Contract/casual</td>\n",
       "      <td>Male</td>\n",
       "      <td>6.350375e+17</td>\n",
       "      <td>TAFE</td>\n",
       "      <td>3-4</td>\n",
       "      <td>Administration (AO)</td>\n",
       "      <td>Resignation</td>\n",
       "      <td>3.0</td>\n",
       "      <td>Experienced</td>\n",
       "    </tr>\n",
       "    <tr>\n",
       "      <th>638</th>\n",
       "      <td>26  30</td>\n",
       "      <td>2013.0</td>\n",
       "      <td>True</td>\n",
       "      <td>Temporary Full-time</td>\n",
       "      <td>Female</td>\n",
       "      <td>6.350402e+17</td>\n",
       "      <td>TAFE</td>\n",
       "      <td>1-2</td>\n",
       "      <td>Technical Officer (TO)</td>\n",
       "      <td>Resignation</td>\n",
       "      <td>1.0</td>\n",
       "      <td>New</td>\n",
       "    </tr>\n",
       "    <tr>\n",
       "      <th>639</th>\n",
       "      <td>41  45</td>\n",
       "      <td>2013.0</td>\n",
       "      <td>False</td>\n",
       "      <td>Temporary Full-time</td>\n",
       "      <td>Female</td>\n",
       "      <td>6.350426e+17</td>\n",
       "      <td>TAFE</td>\n",
       "      <td>5-6</td>\n",
       "      <td>Administration (AO)</td>\n",
       "      <td>Resignation</td>\n",
       "      <td>5.0</td>\n",
       "      <td>Experienced</td>\n",
       "    </tr>\n",
       "    <tr>\n",
       "      <th>640</th>\n",
       "      <td>46  50</td>\n",
       "      <td>2013.0</td>\n",
       "      <td>False</td>\n",
       "      <td>Permanent Part-time</td>\n",
       "      <td>Female</td>\n",
       "      <td>6.350479e+17</td>\n",
       "      <td>TAFE</td>\n",
       "      <td>5-6</td>\n",
       "      <td>Professional Officer (PO)</td>\n",
       "      <td>Resignation</td>\n",
       "      <td>5.0</td>\n",
       "      <td>Experienced</td>\n",
       "    </tr>\n",
       "    <tr>\n",
       "      <th>641</th>\n",
       "      <td>41  45</td>\n",
       "      <td>2013.0</td>\n",
       "      <td>True</td>\n",
       "      <td>Permanent Full-time</td>\n",
       "      <td>Male</td>\n",
       "      <td>6.350480e+17</td>\n",
       "      <td>TAFE</td>\n",
       "      <td>Less than 1 year</td>\n",
       "      <td>Teacher (including LVT)</td>\n",
       "      <td>Resignation</td>\n",
       "      <td>1.0</td>\n",
       "      <td>New</td>\n",
       "    </tr>\n",
       "    <tr>\n",
       "      <th>642</th>\n",
       "      <td>NaN</td>\n",
       "      <td>2013.0</td>\n",
       "      <td>False</td>\n",
       "      <td>NaN</td>\n",
       "      <td>NaN</td>\n",
       "      <td>6.350496e+17</td>\n",
       "      <td>TAFE</td>\n",
       "      <td>NaN</td>\n",
       "      <td>NaN</td>\n",
       "      <td>Resignation</td>\n",
       "      <td>NaN</td>\n",
       "      <td>NaN</td>\n",
       "    </tr>\n",
       "    <tr>\n",
       "      <th>643</th>\n",
       "      <td>56 or older</td>\n",
       "      <td>2013.0</td>\n",
       "      <td>False</td>\n",
       "      <td>Permanent Part-time</td>\n",
       "      <td>Female</td>\n",
       "      <td>6.350496e+17</td>\n",
       "      <td>TAFE</td>\n",
       "      <td>3-4</td>\n",
       "      <td>Operational (OO)</td>\n",
       "      <td>Resignation</td>\n",
       "      <td>3.0</td>\n",
       "      <td>Experienced</td>\n",
       "    </tr>\n",
       "    <tr>\n",
       "      <th>644</th>\n",
       "      <td>26  30</td>\n",
       "      <td>2013.0</td>\n",
       "      <td>False</td>\n",
       "      <td>Temporary Full-time</td>\n",
       "      <td>Female</td>\n",
       "      <td>6.350599e+17</td>\n",
       "      <td>TAFE</td>\n",
       "      <td>1-2</td>\n",
       "      <td>Administration (AO)</td>\n",
       "      <td>Resignation</td>\n",
       "      <td>1.0</td>\n",
       "      <td>New</td>\n",
       "    </tr>\n",
       "    <tr>\n",
       "      <th>645</th>\n",
       "      <td>NaN</td>\n",
       "      <td>2013.0</td>\n",
       "      <td>False</td>\n",
       "      <td>NaN</td>\n",
       "      <td>NaN</td>\n",
       "      <td>6.350652e+17</td>\n",
       "      <td>TAFE</td>\n",
       "      <td>NaN</td>\n",
       "      <td>NaN</td>\n",
       "      <td>Resignation</td>\n",
       "      <td>NaN</td>\n",
       "      <td>NaN</td>\n",
       "    </tr>\n",
       "    <tr>\n",
       "      <th>646</th>\n",
       "      <td>21  25</td>\n",
       "      <td>2013.0</td>\n",
       "      <td>False</td>\n",
       "      <td>Temporary Full-time</td>\n",
       "      <td>Male</td>\n",
       "      <td>6.350660e+17</td>\n",
       "      <td>TAFE</td>\n",
       "      <td>5-6</td>\n",
       "      <td>Operational (OO)</td>\n",
       "      <td>Resignation</td>\n",
       "      <td>5.0</td>\n",
       "      <td>Experienced</td>\n",
       "    </tr>\n",
       "    <tr>\n",
       "      <th>647</th>\n",
       "      <td>51-55</td>\n",
       "      <td>2013.0</td>\n",
       "      <td>False</td>\n",
       "      <td>Temporary Full-time</td>\n",
       "      <td>Male</td>\n",
       "      <td>6.350668e+17</td>\n",
       "      <td>TAFE</td>\n",
       "      <td>1-2</td>\n",
       "      <td>Teacher (including LVT)</td>\n",
       "      <td>Resignation</td>\n",
       "      <td>1.0</td>\n",
       "      <td>New</td>\n",
       "    </tr>\n",
       "    <tr>\n",
       "      <th>648</th>\n",
       "      <td>NaN</td>\n",
       "      <td>2013.0</td>\n",
       "      <td>False</td>\n",
       "      <td>NaN</td>\n",
       "      <td>NaN</td>\n",
       "      <td>6.350677e+17</td>\n",
       "      <td>TAFE</td>\n",
       "      <td>NaN</td>\n",
       "      <td>NaN</td>\n",
       "      <td>Resignation</td>\n",
       "      <td>NaN</td>\n",
       "      <td>NaN</td>\n",
       "    </tr>\n",
       "    <tr>\n",
       "      <th>649</th>\n",
       "      <td>51-55</td>\n",
       "      <td>2013.0</td>\n",
       "      <td>False</td>\n",
       "      <td>Permanent Full-time</td>\n",
       "      <td>Female</td>\n",
       "      <td>6.350704e+17</td>\n",
       "      <td>TAFE</td>\n",
       "      <td>5-6</td>\n",
       "      <td>Teacher (including LVT)</td>\n",
       "      <td>Resignation</td>\n",
       "      <td>5.0</td>\n",
       "      <td>Experienced</td>\n",
       "    </tr>\n",
       "    <tr>\n",
       "      <th>650</th>\n",
       "      <td>26  30</td>\n",
       "      <td>2013.0</td>\n",
       "      <td>False</td>\n",
       "      <td>Contract/casual</td>\n",
       "      <td>Female</td>\n",
       "      <td>6.350730e+17</td>\n",
       "      <td>TAFE</td>\n",
       "      <td>3-4</td>\n",
       "      <td>Administration (AO)</td>\n",
       "      <td>Resignation</td>\n",
       "      <td>3.0</td>\n",
       "      <td>Experienced</td>\n",
       "    </tr>\n",
       "  </tbody>\n",
       "</table>\n",
       "<p>651 rows × 12 columns</p>\n",
       "</div>"
      ],
      "text/plain": [
       "             age  cease_date  dissatisfied    employment_status  gender  \\\n",
       "0          36-40      2012.0         False  Permanent Full-time  Female   \n",
       "1          41-45      2012.0          True  Permanent Full-time  Female   \n",
       "2          31-35      2012.0         False  Permanent Full-time  Female   \n",
       "3          46-50      2012.0          True  Permanent Part-time  Female   \n",
       "4          31-35      2012.0         False  Permanent Full-time    Male   \n",
       "5          36-40      2012.0         False  Permanent Full-time  Female   \n",
       "6          31-35      2012.0          True  Permanent Full-time    Male   \n",
       "7    61 or older      2012.0          True  Permanent Part-time    Male   \n",
       "8          56-60      2012.0         False  Permanent Full-time    Male   \n",
       "9          51-55      2012.0         False  Permanent Part-time  Female   \n",
       "10         46-50      2012.0          True  Permanent Part-time  Female   \n",
       "11   61 or older      2012.0          True  Permanent Full-time  Female   \n",
       "12         41-45      2012.0          True  Permanent Part-time  Female   \n",
       "13         21-25      2012.0         False  Permanent Full-time  Female   \n",
       "14         36-40      2012.0          True  Permanent Full-time    Male   \n",
       "15   61 or older      2012.0          True  Permanent Part-time    Male   \n",
       "16         21-25      2012.0         False  Temporary Part-time  Female   \n",
       "17         21-25      2012.0          True  Permanent Full-time  Female   \n",
       "18         56-60      2012.0         False  Permanent Full-time    Male   \n",
       "19         51-55      2012.0          True  Permanent Full-time  Female   \n",
       "20         41-45      2012.0         False  Permanent Part-time  Female   \n",
       "21         51-55      2012.0          True  Permanent Full-time    Male   \n",
       "22         21-25      2012.0         False  Permanent Full-time    Male   \n",
       "23         21-25      2012.0         False  Permanent Full-time    Male   \n",
       "24   61 or older      2012.0         False  Permanent Full-time  Female   \n",
       "25         26-30      2012.0         False  Permanent Part-time  Female   \n",
       "26         46-50      2012.0         False  Permanent Full-time    Male   \n",
       "27         31-35      2012.0         False  Temporary Part-time  Female   \n",
       "28         36-40      2012.0          True  Permanent Full-time  Female   \n",
       "29         36-40      2012.0         False  Permanent Part-time  Female   \n",
       "..           ...         ...           ...                  ...     ...   \n",
       "621       46  50      2013.0         False  Temporary Part-time  Female   \n",
       "622       41  45      2013.0         False  Permanent Part-time  Female   \n",
       "623       46  50      2013.0          True  Permanent Full-time  Female   \n",
       "624          NaN      2013.0         False                  NaN     NaN   \n",
       "625          NaN      2013.0         False                  NaN     NaN   \n",
       "626       26  30      2013.0         False  Temporary Full-time  Female   \n",
       "627          NaN      2013.0         False                  NaN     NaN   \n",
       "628       46  50      2013.0          True  Temporary Full-time  Female   \n",
       "629        51-55      2013.0          True  Temporary Full-time    Male   \n",
       "630       41  45      2013.0         False      Contract/casual  Female   \n",
       "631       36  40      2013.0         False  Temporary Full-time  Female   \n",
       "632        51-55      2013.0         False  Permanent Full-time    Male   \n",
       "633  56 or older      2013.0         False  Temporary Part-time  Female   \n",
       "634       26  30      2013.0         False  Temporary Full-time  Female   \n",
       "635       26  30      2013.0         False  Permanent Part-time  Female   \n",
       "636       41  45      2013.0         False  Temporary Full-time  Female   \n",
       "637       41  45      2013.0         False      Contract/casual    Male   \n",
       "638       26  30      2013.0          True  Temporary Full-time  Female   \n",
       "639       41  45      2013.0         False  Temporary Full-time  Female   \n",
       "640       46  50      2013.0         False  Permanent Part-time  Female   \n",
       "641       41  45      2013.0          True  Permanent Full-time    Male   \n",
       "642          NaN      2013.0         False                  NaN     NaN   \n",
       "643  56 or older      2013.0         False  Permanent Part-time  Female   \n",
       "644       26  30      2013.0         False  Temporary Full-time  Female   \n",
       "645          NaN      2013.0         False                  NaN     NaN   \n",
       "646       21  25      2013.0         False  Temporary Full-time    Male   \n",
       "647        51-55      2013.0         False  Temporary Full-time    Male   \n",
       "648          NaN      2013.0         False                  NaN     NaN   \n",
       "649        51-55      2013.0         False  Permanent Full-time  Female   \n",
       "650       26  30      2013.0         False      Contract/casual  Female   \n",
       "\n",
       "               id institute institute_service  \\\n",
       "0    4.000000e+00      DETE                 7   \n",
       "1    6.000000e+00      DETE                18   \n",
       "2    9.000000e+00      DETE                 3   \n",
       "3    1.000000e+01      DETE                15   \n",
       "4    1.200000e+01      DETE                 3   \n",
       "5    1.300000e+01      DETE                14   \n",
       "6    1.500000e+01      DETE                 5   \n",
       "7    1.700000e+01      DETE               NaN   \n",
       "8    2.100000e+01      DETE                30   \n",
       "9    2.200000e+01      DETE                32   \n",
       "10   2.300000e+01      DETE                15   \n",
       "11   2.400000e+01      DETE                39   \n",
       "12   2.600000e+01      DETE                17   \n",
       "13   2.800000e+01      DETE                 7   \n",
       "14   3.400000e+01      DETE                 9   \n",
       "15   3.500000e+01      DETE                 6   \n",
       "16   3.800000e+01      DETE                 1   \n",
       "17   4.000000e+01      DETE               NaN   \n",
       "18   4.100000e+01      DETE                35   \n",
       "19   4.200000e+01      DETE                38   \n",
       "20   4.300000e+01      DETE                 1   \n",
       "21   4.400000e+01      DETE                36   \n",
       "22   4.900000e+01      DETE                 3   \n",
       "23   5.100000e+01      DETE                 3   \n",
       "24   5.200000e+01      DETE                19   \n",
       "25   5.600000e+01      DETE                 4   \n",
       "26   5.800000e+01      DETE                 9   \n",
       "27   6.200000e+01      DETE                 1   \n",
       "28   7.000000e+01      DETE                 6   \n",
       "29   7.200000e+01      DETE                 1   \n",
       "..            ...       ...               ...   \n",
       "621  6.349985e+17      TAFE               1-2   \n",
       "622  6.349994e+17      TAFE               3-4   \n",
       "623  6.350003e+17      TAFE               5-6   \n",
       "624  6.350055e+17      TAFE               NaN   \n",
       "625  6.350055e+17      TAFE               NaN   \n",
       "626  6.350108e+17      TAFE               3-4   \n",
       "627  6.350124e+17      TAFE               NaN   \n",
       "628  6.350127e+17      TAFE  Less than 1 year   \n",
       "629  6.350175e+17      TAFE  Less than 1 year   \n",
       "630  6.350194e+17      TAFE               1-2   \n",
       "631  6.350219e+17      TAFE  Less than 1 year   \n",
       "632  6.350253e+17      TAFE               3-4   \n",
       "633  6.350279e+17      TAFE               1-2   \n",
       "634  6.350314e+17      TAFE  Less than 1 year   \n",
       "635  6.350357e+17      TAFE  Less than 1 year   \n",
       "636  6.350374e+17      TAFE  Less than 1 year   \n",
       "637  6.350375e+17      TAFE               3-4   \n",
       "638  6.350402e+17      TAFE               1-2   \n",
       "639  6.350426e+17      TAFE               5-6   \n",
       "640  6.350479e+17      TAFE               5-6   \n",
       "641  6.350480e+17      TAFE  Less than 1 year   \n",
       "642  6.350496e+17      TAFE               NaN   \n",
       "643  6.350496e+17      TAFE               3-4   \n",
       "644  6.350599e+17      TAFE               1-2   \n",
       "645  6.350652e+17      TAFE               NaN   \n",
       "646  6.350660e+17      TAFE               5-6   \n",
       "647  6.350668e+17      TAFE               1-2   \n",
       "648  6.350677e+17      TAFE               NaN   \n",
       "649  6.350704e+17      TAFE               5-6   \n",
       "650  6.350730e+17      TAFE               3-4   \n",
       "\n",
       "                                         position separationtype  \\\n",
       "0                                         Teacher    Resignation   \n",
       "1                                Guidance Officer    Resignation   \n",
       "2                                         Teacher    Resignation   \n",
       "3                                    Teacher Aide    Resignation   \n",
       "4                                         Teacher    Resignation   \n",
       "5                                         Teacher    Resignation   \n",
       "6                                         Teacher    Resignation   \n",
       "7                                    Teacher Aide    Resignation   \n",
       "8                                         Teacher    Resignation   \n",
       "9                                         Cleaner    Resignation   \n",
       "10                    School Administrative Staff    Resignation   \n",
       "11                                        Teacher    Resignation   \n",
       "12                                        Teacher    Resignation   \n",
       "13                                 Public Servant    Resignation   \n",
       "14                                        Teacher    Resignation   \n",
       "15                                        Cleaner    Resignation   \n",
       "16                                   Teacher Aide    Resignation   \n",
       "17                                        Teacher    Resignation   \n",
       "18                                        Teacher    Resignation   \n",
       "19   Head of Curriculum/Head of Special Education    Resignation   \n",
       "20                                        Cleaner    Resignation   \n",
       "21                                        Teacher    Resignation   \n",
       "22                                        Cleaner    Resignation   \n",
       "23                                        Cleaner    Resignation   \n",
       "24                                        Cleaner    Resignation   \n",
       "25                                   Teacher Aide    Resignation   \n",
       "26                                        Teacher    Resignation   \n",
       "27                                Schools Officer    Resignation   \n",
       "28                                 Public Servant    Resignation   \n",
       "29                                   Teacher Aide    Resignation   \n",
       "..                                            ...            ...   \n",
       "621                           Administration (AO)    Resignation   \n",
       "622                           Administration (AO)    Resignation   \n",
       "623                           Administration (AO)    Resignation   \n",
       "624                                           NaN    Resignation   \n",
       "625                                           NaN    Resignation   \n",
       "626                           Administration (AO)    Resignation   \n",
       "627                                           NaN    Resignation   \n",
       "628                       Teacher (including LVT)    Resignation   \n",
       "629                       Teacher (including LVT)    Resignation   \n",
       "630                           Administration (AO)    Resignation   \n",
       "631                           Administration (AO)    Resignation   \n",
       "632                           Administration (AO)    Resignation   \n",
       "633                              Operational (OO)    Resignation   \n",
       "634                           Administration (AO)    Resignation   \n",
       "635                           Administration (AO)    Resignation   \n",
       "636                           Administration (AO)    Resignation   \n",
       "637                           Administration (AO)    Resignation   \n",
       "638                        Technical Officer (TO)    Resignation   \n",
       "639                           Administration (AO)    Resignation   \n",
       "640                     Professional Officer (PO)    Resignation   \n",
       "641                       Teacher (including LVT)    Resignation   \n",
       "642                                           NaN    Resignation   \n",
       "643                              Operational (OO)    Resignation   \n",
       "644                           Administration (AO)    Resignation   \n",
       "645                                           NaN    Resignation   \n",
       "646                              Operational (OO)    Resignation   \n",
       "647                       Teacher (including LVT)    Resignation   \n",
       "648                                           NaN    Resignation   \n",
       "649                       Teacher (including LVT)    Resignation   \n",
       "650                           Administration (AO)    Resignation   \n",
       "\n",
       "     institute_service_up  service_cat  \n",
       "0                     7.0  Established  \n",
       "1                    18.0      Veteran  \n",
       "2                     3.0  Experienced  \n",
       "3                    15.0      Veteran  \n",
       "4                     3.0  Experienced  \n",
       "5                    14.0      Veteran  \n",
       "6                     5.0  Experienced  \n",
       "7                     NaN          NaN  \n",
       "8                    30.0      Veteran  \n",
       "9                    32.0      Veteran  \n",
       "10                   15.0      Veteran  \n",
       "11                   39.0      Veteran  \n",
       "12                   17.0      Veteran  \n",
       "13                    7.0  Established  \n",
       "14                    9.0  Established  \n",
       "15                    6.0  Experienced  \n",
       "16                    1.0          New  \n",
       "17                    NaN          NaN  \n",
       "18                   35.0      Veteran  \n",
       "19                   38.0      Veteran  \n",
       "20                    1.0          New  \n",
       "21                   36.0      Veteran  \n",
       "22                    3.0  Experienced  \n",
       "23                    3.0  Experienced  \n",
       "24                   19.0      Veteran  \n",
       "25                    4.0  Experienced  \n",
       "26                    9.0  Established  \n",
       "27                    1.0          New  \n",
       "28                    6.0  Experienced  \n",
       "29                    1.0          New  \n",
       "..                    ...          ...  \n",
       "621                   1.0          New  \n",
       "622                   3.0  Experienced  \n",
       "623                   5.0  Experienced  \n",
       "624                   NaN          NaN  \n",
       "625                   NaN          NaN  \n",
       "626                   3.0  Experienced  \n",
       "627                   NaN          NaN  \n",
       "628                   1.0          New  \n",
       "629                   1.0          New  \n",
       "630                   1.0          New  \n",
       "631                   1.0          New  \n",
       "632                   3.0  Experienced  \n",
       "633                   1.0          New  \n",
       "634                   1.0          New  \n",
       "635                   1.0          New  \n",
       "636                   1.0          New  \n",
       "637                   3.0  Experienced  \n",
       "638                   1.0          New  \n",
       "639                   5.0  Experienced  \n",
       "640                   5.0  Experienced  \n",
       "641                   1.0          New  \n",
       "642                   NaN          NaN  \n",
       "643                   3.0  Experienced  \n",
       "644                   1.0          New  \n",
       "645                   NaN          NaN  \n",
       "646                   5.0  Experienced  \n",
       "647                   1.0          New  \n",
       "648                   NaN          NaN  \n",
       "649                   5.0  Experienced  \n",
       "650                   3.0  Experienced  \n",
       "\n",
       "[651 rows x 12 columns]"
      ]
     },
     "execution_count": 53,
     "metadata": {},
     "output_type": "execute_result"
    }
   ],
   "source": [
    "combined_updated"
   ]
  },
  {
   "cell_type": "code",
   "execution_count": 54,
   "metadata": {
    "collapsed": false
   },
   "outputs": [
    {
     "data": {
      "text/plain": [
       "51-55            71\n",
       "NaN              55\n",
       "41-45            48\n",
       "41  45           45\n",
       "46-50            42\n",
       "36-40            41\n",
       "46  50           39\n",
       "26-30            35\n",
       "21  25           33\n",
       "36  40           32\n",
       "31  35           32\n",
       "26  30           32\n",
       "21-25            29\n",
       "56 or older      29\n",
       "31-35            29\n",
       "56-60            26\n",
       "61 or older      23\n",
       "20 or younger    10\n",
       "Name: age, dtype: int64"
      ]
     },
     "execution_count": 54,
     "metadata": {},
     "output_type": "execute_result"
    }
   ],
   "source": [
    "combined_updated[\"age\"].value_counts(dropna=False)"
   ]
  },
  {
   "cell_type": "markdown",
   "metadata": {
    "collapsed": true
   },
   "source": [
    "Age column needs a bit cleaning."
   ]
  },
  {
   "cell_type": "code",
   "execution_count": 55,
   "metadata": {
    "collapsed": true
   },
   "outputs": [],
   "source": [
    "combined_updated[\"age\"] = combined_updated[\"age\"].astype(\"str\")"
   ]
  },
  {
   "cell_type": "code",
   "execution_count": 63,
   "metadata": {
    "collapsed": false
   },
   "outputs": [],
   "source": [
    "combined_updated[\"clean_age\"] = combined_updated[\"age\"].str.replace(\"  \",\"-\")"
   ]
  },
  {
   "cell_type": "code",
   "execution_count": 65,
   "metadata": {
    "collapsed": false
   },
   "outputs": [
    {
     "data": {
      "text/plain": [
       "20 or younger    10\n",
       "21-25            62\n",
       "26-30            67\n",
       "31-35            61\n",
       "36-40            73\n",
       "41-45            93\n",
       "46-50            81\n",
       "51-55            71\n",
       "56 or older      29\n",
       "56-60            26\n",
       "61 or older      23\n",
       "nan              55\n",
       "Name: clean_age, dtype: int64"
      ]
     },
     "execution_count": 65,
     "metadata": {},
     "output_type": "execute_result"
    }
   ],
   "source": [
    "combined_updated[\"clean_age\"].value_counts().sort_index()"
   ]
  },
  {
   "cell_type": "code",
   "execution_count": 66,
   "metadata": {
    "collapsed": true
   },
   "outputs": [],
   "source": [
    "combined_updated[\"clean_age\"] = combined_updated[\"clean_age\"].str.replace(\"56-60\",\"56 or older\")"
   ]
  },
  {
   "cell_type": "code",
   "execution_count": 67,
   "metadata": {
    "collapsed": true
   },
   "outputs": [],
   "source": [
    "combined_updated[\"clean_age\"] = combined_updated[\"clean_age\"].str.replace(\"61 or older\",\"56 or older\")"
   ]
  },
  {
   "cell_type": "code",
   "execution_count": 73,
   "metadata": {
    "collapsed": false
   },
   "outputs": [
    {
     "data": {
      "text/plain": [
       "20 or younger    10\n",
       "21-25            62\n",
       "26-30            67\n",
       "31-35            61\n",
       "36-40            73\n",
       "41-45            93\n",
       "46-50            81\n",
       "51-55            71\n",
       "56 or older      78\n",
       "nan              55\n",
       "Name: clean_age, dtype: int64"
      ]
     },
     "execution_count": 73,
     "metadata": {},
     "output_type": "execute_result"
    }
   ],
   "source": [
    "combined_updated[\"clean_age\"].value_counts().sort_index()"
   ]
  },
  {
   "cell_type": "code",
   "execution_count": 80,
   "metadata": {
    "collapsed": false
   },
   "outputs": [],
   "source": [
    "combined_updated[\"clean_age\"] = combined_updated[\"clean_age\"].str.replace(\"nan\",\"Unknown\")"
   ]
  },
  {
   "cell_type": "code",
   "execution_count": 85,
   "metadata": {
    "collapsed": true
   },
   "outputs": [],
   "source": [
    "import seaborn as sns\n",
    "import matplotlib.pyplot as plt"
   ]
  },
  {
   "cell_type": "code",
   "execution_count": 94,
   "metadata": {
    "collapsed": false
   },
   "outputs": [
    {
     "name": "stderr",
     "output_type": "stream",
     "text": [
      "/dataquest/system/env/python3/lib/python3.4/site-packages/seaborn/categorical.py:1428: FutureWarning: remove_na is deprecated and is a private function. Do not use.\n",
      "  stat_data = remove_na(group_data)\n"
     ]
    },
    {
     "data": {
      "image/png": "[encoded data removed]",
      "text/plain": [
       "<matplotlib.figure.Figure at 0x7fea07837cc0>"
      ]
     },
     "metadata": {},
     "output_type": "display_data"
    }
   ],
   "source": [
    "plt.figure(figsize=(10,6))\n",
    "ax = sns.barplot(x = combined_updated[\"clean_age\"], y = combined_updated[\"dissatisfied\"], \n",
    "                 estimator = np.mean, ci=0, palette = \"colorblind\",\n",
    "                order=combined_updated[\"clean_age\"].value_counts().sort_index().index)\n",
    "\n",
    "ax.spines[\"top\"].set_visible(False)\n",
    "ax.spines[\"bottom\"].set_visible(False)\n",
    "ax.spines[\"right\"].set_visible(False)\n",
    "ax.spines[\"left\"].set_visible(False)\n",
    "ax.tick_params(left = False, bottom = False)\n",
    "ax.set_yticks([0.0,0.1,0.2,0.3,0.4,0.5])\n",
    "ax.set(xlabel='Age', ylabel='Percentage')\n",
    "ax.set_title(\"Percentage of employees that resigned due to dissatisfaction based on ages\")\n",
    "plt.show()"
   ]
  },
  {
   "cell_type": "markdown",
   "metadata": {},
   "source": [
    "We can see that there two peaks in the graph above. Employees at the age group of 26-30 and employees who are older than 50, resigned due to some type of dissatisfaction."
   ]
  },
  {
   "cell_type": "markdown",
   "metadata": {},
   "source": [
    "Let's take a closer look at the institutes and compare percentage of resignations due to dissatisfaction."
   ]
  },
  {
   "cell_type": "code",
   "execution_count": 98,
   "metadata": {
    "collapsed": false
   },
   "outputs": [
    {
     "name": "stderr",
     "output_type": "stream",
     "text": [
      "/dataquest/system/env/python3/lib/python3.4/site-packages/seaborn/categorical.py:1468: FutureWarning: remove_na is deprecated and is a private function. Do not use.\n",
      "  stat_data = remove_na(group_data[hue_mask])\n"
     ]
    },
    {
     "data": {
      "image/png": "[encoded data removed]",
      "text/plain": [
       "<matplotlib.figure.Figure at 0x7fea0723f898>"
      ]
     },
     "metadata": {},
     "output_type": "display_data"
    }
   ],
   "source": [
    "plt.figure(figsize=(10,6))\n",
    "ax = sns.barplot(x = combined_updated[\"clean_age\"], \n",
    "                 y = combined_updated[\"dissatisfied\"],\n",
    "                 hue = combined_updated[\"institute\"],\n",
    "                 estimator = np.mean, ci=0, palette = \"colorblind\",\n",
    "                order=combined_updated[\"clean_age\"].value_counts().sort_index().index)\n",
    "\n",
    "ax.spines[\"top\"].set_visible(False)\n",
    "ax.spines[\"bottom\"].set_visible(False)\n",
    "ax.spines[\"right\"].set_visible(False)\n",
    "ax.spines[\"left\"].set_visible(False)\n",
    "ax.tick_params(left = False, bottom = False)\n",
    "ax.set_yticks([0.0,0.1,0.2,0.3,0.4,0.5])\n",
    "ax.set(xlabel='Age', ylabel='Percentage')\n",
    "ax.set_title(\"Percentage of employees that resigned due to dissatisfaction based on ages\")\n",
    "plt.show()"
   ]
  },
  {
   "cell_type": "markdown",
   "metadata": {},
   "source": [
    "We can see that the resignations due to dissatisfaction percentages are different for each survey. The respondents of DETE survey has more dissatisfied employees."
   ]
  },
  {
   "cell_type": "markdown",
   "metadata": {},
   "source": [
    "Analyzing DETE Resignations\n",
    "---"
   ]
  },
  {
   "cell_type": "code",
   "execution_count": 120,
   "metadata": {
    "collapsed": false
   },
   "outputs": [],
   "source": [
    "dete_res_reasons = dete_survey_updated.iloc[:,10:27]"
   ]
  },
  {
   "cell_type": "markdown",
   "metadata": {},
   "source": [
    "Below we seperated only the columns that has "
   ]
  },
  {
   "cell_type": "code",
   "execution_count": 121,
   "metadata": {
    "collapsed": false
   },
   "outputs": [
    {
     "data": {
      "text/plain": [
       "work_life_balance                      217\n",
       "ill_health                             112\n",
       "job_dissatisfaction                     89\n",
       "workload                                87\n",
       "career_move_to_private_sector           80\n",
       "relocation                              68\n",
       "maternity/family                        62\n",
       "dissatisfaction_with_the_department     61\n",
       "lack_of_recognition                     57\n",
       "study/travel                            37\n",
       "interpersonal_conflicts                 34\n",
       "employment_conditions                   34\n",
       "traumatic_incident                      28\n",
       "lack_of_job_security                    28\n",
       "work_location                           27\n",
       "career_move_to_public_sector            22\n",
       "physical_work_environment               16\n",
       "dtype: int64"
      ]
     },
     "execution_count": 121,
     "metadata": {},
     "output_type": "execute_result"
    }
   ],
   "source": [
    "dete_res_reasons.sum().sort_values(ascending=False)"
   ]
  },
  {
   "cell_type": "markdown",
   "metadata": {},
   "source": [
    "We can see that the most common reason of resignation is work life balance which is a very valid reason. Now, let's visualize these reasons to have a better understanding of the proportions for reasons."
   ]
  },
  {
   "cell_type": "code",
   "execution_count": 124,
   "metadata": {
    "collapsed": false
   },
   "outputs": [
    {
     "data": {
      "image/png": "[encoded data removed]",
      "text/plain": [
       "<matplotlib.figure.Figure at 0x7fea0422d208>"
      ]
     },
     "metadata": {},
     "output_type": "display_data"
    }
   ],
   "source": [
    "plt.figure(figsize=(15,10))\n",
    "sns.heatmap(dete_res_reasons, cbar=False)\n",
    "plt.tick_params(left=False, labelleft=False)\n",
    "plt.title('Dissatisfaction Reasons in DETE', fontsize=15)\n",
    "plt.show()"
   ]
  },
  {
   "cell_type": "markdown",
   "metadata": {},
   "source": [
    "Conclusion\n",
    "---"
   ]
  },
  {
   "cell_type": "markdown",
   "metadata": {},
   "source": [
    "In this project, we analyzed to employee surveys from Australia. We found out that:\n",
    " * Older and more experienced employees are more tend to be dissatisfied. This can be due to a higher expectation. When employees have more experience in a company, they tend to have more expectaions and goals like a pay raise or promotion.\n",
    " * Younger employees are resigning due several different reasons."
   ]
  }
 ],
 "metadata": {
  "kernelspec": {
   "display_name": "Python 3",
   "language": "python",
   "name": "python3"
  },
  "language_info": {
   "codemirror_mode": {
    "name": "ipython",
    "version": 3
   },
   "file_extension": ".py",
   "mimetype": "text/x-python",
   "name": "python",
   "nbconvert_exporter": "python",
   "pygments_lexer": "ipython3",
   "version": "3.4.3"
  }
 },
 "nbformat": 4,
 "nbformat_minor": 2
}
